{
 "cells": [
  {
   "cell_type": "code",
   "execution_count": 1,
   "metadata": {},
   "outputs": [],
   "source": [
    "import torch\n",
    "import torch.nn as nn\n",
    "import torchvision.transforms as transforms\n",
    "import torch.nn.functional as F\n",
    "import torchvision\n",
    "import os\n",
    "import numpy as np\n",
    "import sys\n",
    "import matplotlib.pyplot as plt\n",
    "import matplotlib \n",
    "from PIL import Image\n",
    "%matplotlib inline\n",
    "%load_ext autoreload\n",
    "%autoreload 2"
   ]
  },
  {
   "cell_type": "code",
   "execution_count": 2,
   "metadata": {},
   "outputs": [],
   "source": [
    "from captum.attr import visualization as viz\n",
    "sys.path.append(\"../attacks/\")\n",
    "from utils import get_expl, torch_to_image, load_image,  convert_relu_to_softplus, heatmap_to_image\n",
    "import mister_ed.loss_functions as lf\n",
    "import mister_ed.utils.pytorch_utils as mister_ed_utils\n",
    "from mister_ed.utils.pytorch_ssim import SSIM"
   ]
  },
  {
   "cell_type": "code",
   "execution_count": 3,
   "metadata": {},
   "outputs": [],
   "source": [
    "device = torch.device(\"cuda\" if torch.cuda.is_available() else \"cpu\")\n",
    "data_mean = np.array([0.4914, 0.4822, 0.4465])\n",
    "data_std = np.array([0.2023, 0.1994, 0.2010])"
   ]
  },
  {
   "cell_type": "markdown",
   "metadata": {},
   "source": [
    "### MSE"
   ]
  },
  {
   "cell_type": "code",
   "execution_count": 4,
   "metadata": {},
   "outputs": [],
   "source": [
    "mse_to_target_map = {\"CURE\": {\"add\": [], \"add_recolor\": [], \"add_stadv\": [], \"add_stadv_recolor\": []}, \n",
    "         \"adv_train_RN50\": {\"add\": [], \"add_recolor\": [], \"add_stadv\": [], \"add_stadv_recolor\": []}}\n",
    "\n",
    "for method in [\"CURE\", \"adv_train_RN50\"]:\n",
    "    for att in [\"add\", \"add_recolor\", \"add_stadv\", \"add_stadv_recolor\"]:\n",
    "        for folder in os.listdir(\"../ad-hoc_results/\"+method+\"/\"+att+\"/\"):\n",
    "            with open(\"../ad-hoc_results/\"+method+\"/\"+att+\"/\"+folder+\"/output.log\", \"r\") as f:\n",
    "                lines = f.readlines()\n",
    "                for l in lines[::-1]:\n",
    "                    if l.startswith(\"expl loss:\"):\n",
    "                        mse_to_target_map[method][att].append(float(l.strip().split(\" \")[-1]))\n",
    "                        break"
   ]
  },
  {
   "cell_type": "markdown",
   "metadata": {},
   "source": [
    "### LPIPS"
   ]
  },
  {
   "cell_type": "code",
   "execution_count": 5,
   "metadata": {},
   "outputs": [],
   "source": [
    "lpips_to_original_image = {\"CURE\": {\"add\": [], \"add_recolor\": [], \"add_stadv\": [], \"add_stadv_recolor\": []}, \n",
    "         \"adv_train_RN50\": {\"add\": [], \"add_recolor\": [], \"add_stadv\": [], \"add_stadv_recolor\": []}}\n",
    "\n",
    "for method in [\"CURE\", \"adv_train_RN50\"]:\n",
    "    for att in [\"add\", \"add_recolor\", \"add_stadv\", \"add_stadv_recolor\"]:\n",
    "        for folder in os.listdir(\"../ad-hoc_results/\"+method+\"/\"+att+\"/\"):\n",
    "            with open(\"../ad-hoc_results/\"+method+\"/\"+att+\"/\"+folder+\"/output.log\", \"r\") as f:\n",
    "                lines = f.readlines()\n",
    "            lpips_to_original_image[method][att].append(float(lines[-2].strip().split(\" \")[-1]))\n",
    "                        "
   ]
  },
  {
   "cell_type": "markdown",
   "metadata": {},
   "source": [
    "### viz"
   ]
  },
  {
   "cell_type": "code",
   "execution_count": 6,
   "metadata": {},
   "outputs": [],
   "source": [
    "errors = {}\n",
    "for k, v in mse_to_target_map.items():\n",
    "    errors[k] = {k1: np.std(v1) for k1,v1 in v.items()}"
   ]
  },
  {
   "cell_type": "code",
   "execution_count": 7,
   "metadata": {},
   "outputs": [],
   "source": [
    "lpips_errors = {}\n",
    "for k, v in lpips_to_original_image.items():\n",
    "    lpips_errors[k] = {k1: np.std(v1) for k1,v1 in v.items()}"
   ]
  },
  {
   "cell_type": "code",
   "execution_count": 8,
   "metadata": {},
   "outputs": [
    {
     "data": {
      "text/plain": [
       "Text(0, 0.5, '$LPIPS(x_{adv}, x)$')"
      ]
     },
     "execution_count": 8,
     "metadata": {},
     "output_type": "execute_result"
    },
    {
     "data": {
      "image/png": "[encoded data removed]",
      "text/plain": [
       "<Figure size 1008x288 with 2 Axes>"
      ]
     },
     "metadata": {
      "needs_background": "light"
     },
     "output_type": "display_data"
    }
   ],
   "source": [
    "fig, ax = plt.subplots(1,2, figsize=(14, 4))\n",
    "\n",
    "x_s = np.array([1,2])\n",
    "ax[0].bar(x_s - 0.2, \n",
    "           [np.mean(mse_to_target_map[\"CURE\"][\"add\"]), \n",
    "            np.mean(mse_to_target_map[\"adv_train_RN50\"][\"add\"])], \n",
    "            yerr=[errors[\"CURE\"][\"add\"], errors[\"adv_train_RN50\"][\"add\"]], width=0.1, label=\"Delta\",\n",
    "            align='center', alpha=0.7, ecolor='black', capsize=5)\n",
    "\n",
    "ax[0].bar(x_s - 0.075, \n",
    "           [np.mean(mse_to_target_map[\"CURE\"][\"add_recolor\"]),\n",
    "            np.mean(mse_to_target_map[\"adv_train_RN50\"][\"add_recolor\"])], \n",
    "            yerr=[errors[\"CURE\"][\"add_recolor\"], errors[\"adv_train_RN50\"][\"add_recolor\"]], width=0.1, label=\"Delta+Recolor\", \n",
    "            align='center', alpha=0.7, ecolor='black', capsize=5)\n",
    "\n",
    "ax[0].bar(x_s + 0.075, \n",
    "           [np.mean(mse_to_target_map[\"CURE\"][\"add_stadv\"]),\n",
    "            np.mean(mse_to_target_map[\"adv_train_RN50\"][\"add_stadv\"])], \n",
    "            yerr=[errors[\"CURE\"][\"add_stadv\"], errors[\"adv_train_RN50\"][\"add_stadv\"]], width=0.1, label=\"Delta+StAdv\",\n",
    "            align='center', alpha=0.7, ecolor='black', capsize=5)\n",
    "\n",
    "ax[0].bar(x_s + 0.2, \n",
    "           [np.mean(mse_to_target_map[\"CURE\"][\"add_stadv_recolor\"]),\n",
    "            np.mean(mse_to_target_map[\"adv_train_RN50\"][\"add_stadv_recolor\"])], \n",
    "            yerr=[errors[\"CURE\"][\"add_stadv_recolor\"], errors[\"adv_train_RN50\"][\"add_stadv_recolor\"]], width=0.1, label=\"Delta+StAdv+Recolor\",\n",
    "            align='center', alpha=0.7, ecolor='black', capsize=5)\n",
    "\n",
    "ax[0].set_xticks(x_s)\n",
    "ax[0].set_xticklabels([\"CURE\", \"adversarial training\"], fontsize=12)\n",
    "ax[0].legend(fontsize=12)\n",
    "ax[0].set_ylabel(r\"$||h(x_{adv}) - h^t||^2$\", fontsize=15)\n",
    "ax[0].ticklabel_format(style='sci', axis='y',scilimits=(0,0), useMathText=True)\n",
    "ax[0].yaxis.get_offset_text().set_fontsize(14)\n",
    "ax[0].set_ylim(top=3e-6)\n",
    "\n",
    "ax[1].bar(x_s - 0.2, \n",
    "           [np.mean(lpips_to_original_image[\"CURE\"][\"add\"]), \n",
    "            np.mean(lpips_to_original_image[\"adv_train_RN50\"][\"add\"])], \n",
    "            yerr=[lpips_errors[\"CURE\"][\"add\"], lpips_errors[\"adv_train_RN50\"][\"add\"]], width=0.1, label=\"add\",\n",
    "            align='center', alpha=0.7, ecolor='black', capsize=5)\n",
    "\n",
    "ax[1].bar(x_s - 0.075, \n",
    "           [np.mean(lpips_to_original_image[\"CURE\"][\"add_recolor\"]),\n",
    "            np.mean(lpips_to_original_image[\"adv_train_RN50\"][\"add_recolor\"])],\n",
    "            yerr=[lpips_errors[\"CURE\"][\"add_recolor\"], lpips_errors[\"adv_train_RN50\"][\"add_recolor\"]], width=0.1, label=\"add_recolor\",\n",
    "            align='center', alpha=0.7, ecolor='black', capsize=5)\n",
    "\n",
    "ax[1].bar(x_s + 0.075, \n",
    "           [np.mean(lpips_to_original_image[\"CURE\"][\"add_stadv\"]),\n",
    "            np.mean(lpips_to_original_image[\"adv_train_RN50\"][\"add_stadv\"])],\n",
    "            yerr=[lpips_errors[\"CURE\"][\"add_stadv\"], lpips_errors[\"adv_train_RN50\"][\"add_stadv\"]], width=0.1, label=\"add_stadv\",\n",
    "            align='center', alpha=0.7, ecolor='black', capsize=5)\n",
    "\n",
    "ax[1].bar(x_s + 0.2, \n",
    "           [np.mean(lpips_to_original_image[\"CURE\"][\"add_stadv_recolor\"]),\n",
    "            np.mean(lpips_to_original_image[\"adv_train_RN50\"][\"add_stadv_recolor\"])],\n",
    "            yerr=[lpips_errors[\"CURE\"][\"add_stadv_recolor\"], lpips_errors[\"adv_train_RN50\"][\"add_stadv_recolor\"]], width=0.1, label=\"add_stadv_recolor\",\n",
    "            align='center', alpha=0.7, ecolor='black', capsize=5)\n",
    "\n",
    "ax[1].set_xticks(x_s)\n",
    "ax[1].set_xticklabels([\"CURE\", \"adversarial training\"], fontsize=12)\n",
    "# ax[1].legend(fontsize=12)\n",
    "# ax[1].set_ylim(bottom=0.25)\n",
    "ax[1].set_ylabel(r\"$LPIPS(x_{adv}, x)$\", fontsize=15)\n",
    "# plt.savefig(\"compare_attacks_mse_cifar.jpg\", dpi=300, bbox_inches='tight', pad_inches=0.05);"
   ]
  },
  {
   "cell_type": "code",
   "execution_count": null,
   "metadata": {},
   "outputs": [],
   "source": []
  }
 ],
 "metadata": {
  "kernelspec": {
   "display_name": "Python 3",
   "language": "python",
   "name": "python3"
  },
  "language_info": {
   "codemirror_mode": {
    "name": "ipython",
    "version": 3
   },
   "file_extension": ".py",
   "mimetype": "text/x-python",
   "name": "python",
   "nbconvert_exporter": "python",
   "pygments_lexer": "ipython3",
   "version": "3.6.10"
  }
 },
 "nbformat": 4,
 "nbformat_minor": 4
}
