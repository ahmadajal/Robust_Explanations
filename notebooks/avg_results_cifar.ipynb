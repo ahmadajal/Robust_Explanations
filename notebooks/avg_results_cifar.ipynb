{
 "cells": [
  {
   "cell_type": "code",
   "execution_count": 41,
   "metadata": {},
   "outputs": [
    {
     "name": "stdout",
     "output_type": "stream",
     "text": [
      "The autoreload extension is already loaded. To reload it, use:\n",
      "  %reload_ext autoreload\n"
     ]
    }
   ],
   "source": [
    "import torch\n",
    "import torch.nn as nn\n",
    "import torchvision.transforms as transforms\n",
    "import torch.nn.functional as F\n",
    "import torchvision\n",
    "import os\n",
    "import numpy as np\n",
    "import sys\n",
    "import matplotlib.pyplot as plt\n",
    "import matplotlib \n",
    "from PIL import Image\n",
    "%matplotlib inline\n",
    "%load_ext autoreload\n",
    "%autoreload 2"
   ]
  },
  {
   "cell_type": "code",
   "execution_count": 2,
   "metadata": {},
   "outputs": [],
   "source": [
    "from captum.attr import visualization as viz\n",
    "sys.path.append(\"../attacks/\")\n",
    "from utils import get_expl, torch_to_image, load_image,  convert_relu_to_softplus, heatmap_to_image\n",
    "import mister_ed.loss_functions as lf\n",
    "import mister_ed.utils.pytorch_utils as mister_ed_utils\n",
    "from mister_ed.utils.pytorch_ssim import SSIM"
   ]
  },
  {
   "cell_type": "code",
   "execution_count": 3,
   "metadata": {},
   "outputs": [],
   "source": [
    "device = torch.device(\"cuda\" if torch.cuda.is_available() else \"cpu\")\n",
    "data_mean = np.array([0.4914, 0.4822, 0.4465])\n",
    "data_std = np.array([0.2023, 0.1994, 0.2010])"
   ]
  },
  {
   "cell_type": "markdown",
   "metadata": {},
   "source": [
    "### MSE"
   ]
  },
  {
   "cell_type": "code",
   "execution_count": 4,
   "metadata": {},
   "outputs": [
    {
     "ename": "FileNotFoundError",
     "evalue": "[Errno 2] No such file or directory: '../ad-hoc_results/CURE/add/'",
     "output_type": "error",
     "traceback": [
      "\u001b[0;31m---------------------------------------------------------------------------\u001b[0m",
      "\u001b[0;31mFileNotFoundError\u001b[0m                         Traceback (most recent call last)",
      "\u001b[0;32m<ipython-input-4-5b0a5badf7d6>\u001b[0m in \u001b[0;36m<module>\u001b[0;34m\u001b[0m\n\u001b[1;32m      6\u001b[0m \u001b[0;32mfor\u001b[0m \u001b[0mmethod\u001b[0m \u001b[0;32min\u001b[0m \u001b[0;34m[\u001b[0m\u001b[0;34m\"CURE\"\u001b[0m\u001b[0;34m,\u001b[0m \u001b[0;34m\"adv_train_RN50\"\u001b[0m\u001b[0;34m,\u001b[0m \u001b[0;34m\"standard\"\u001b[0m\u001b[0;34m,\u001b[0m \u001b[0;34m\"standard_RN50\"\u001b[0m\u001b[0;34m]\u001b[0m\u001b[0;34m:\u001b[0m\u001b[0;34m\u001b[0m\u001b[0;34m\u001b[0m\u001b[0m\n\u001b[1;32m      7\u001b[0m     \u001b[0;32mfor\u001b[0m \u001b[0matt\u001b[0m \u001b[0;32min\u001b[0m \u001b[0;34m[\u001b[0m\u001b[0;34m\"add\"\u001b[0m\u001b[0;34m,\u001b[0m \u001b[0;34m\"add_recolor\"\u001b[0m\u001b[0;34m,\u001b[0m \u001b[0;34m\"add_stadv\"\u001b[0m\u001b[0;34m,\u001b[0m \u001b[0;34m\"add_stadv_recolor\"\u001b[0m\u001b[0;34m]\u001b[0m\u001b[0;34m:\u001b[0m\u001b[0;34m\u001b[0m\u001b[0;34m\u001b[0m\u001b[0m\n\u001b[0;32m----> 8\u001b[0;31m         \u001b[0;32mfor\u001b[0m \u001b[0mfolder\u001b[0m \u001b[0;32min\u001b[0m \u001b[0mos\u001b[0m\u001b[0;34m.\u001b[0m\u001b[0mlistdir\u001b[0m\u001b[0;34m(\u001b[0m\u001b[0;34m\"../ad-hoc_results/\"\u001b[0m\u001b[0;34m+\u001b[0m\u001b[0mmethod\u001b[0m\u001b[0;34m+\u001b[0m\u001b[0;34m\"/\"\u001b[0m\u001b[0;34m+\u001b[0m\u001b[0matt\u001b[0m\u001b[0;34m+\u001b[0m\u001b[0;34m\"/\"\u001b[0m\u001b[0;34m)\u001b[0m\u001b[0;34m:\u001b[0m\u001b[0;34m\u001b[0m\u001b[0;34m\u001b[0m\u001b[0m\n\u001b[0m\u001b[1;32m      9\u001b[0m             \u001b[0;32mwith\u001b[0m \u001b[0mopen\u001b[0m\u001b[0;34m(\u001b[0m\u001b[0;34m\"../ad-hoc_results/\"\u001b[0m\u001b[0;34m+\u001b[0m\u001b[0mmethod\u001b[0m\u001b[0;34m+\u001b[0m\u001b[0;34m\"/\"\u001b[0m\u001b[0;34m+\u001b[0m\u001b[0matt\u001b[0m\u001b[0;34m+\u001b[0m\u001b[0;34m\"/\"\u001b[0m\u001b[0;34m+\u001b[0m\u001b[0mfolder\u001b[0m\u001b[0;34m+\u001b[0m\u001b[0;34m\"/output.log\"\u001b[0m\u001b[0;34m,\u001b[0m \u001b[0;34m\"r\"\u001b[0m\u001b[0;34m)\u001b[0m \u001b[0;32mas\u001b[0m \u001b[0mf\u001b[0m\u001b[0;34m:\u001b[0m\u001b[0;34m\u001b[0m\u001b[0;34m\u001b[0m\u001b[0m\n\u001b[1;32m     10\u001b[0m                 \u001b[0mlines\u001b[0m \u001b[0;34m=\u001b[0m \u001b[0mf\u001b[0m\u001b[0;34m.\u001b[0m\u001b[0mreadlines\u001b[0m\u001b[0;34m(\u001b[0m\u001b[0;34m)\u001b[0m\u001b[0;34m\u001b[0m\u001b[0;34m\u001b[0m\u001b[0m\n",
      "\u001b[0;31mFileNotFoundError\u001b[0m: [Errno 2] No such file or directory: '../ad-hoc_results/CURE/add/'"
     ]
    }
   ],
   "source": [
    "mse_to_target_map = {\"CURE\": {\"add\": [], \"add_recolor\": [], \"add_stadv\": [], \"add_stadv_recolor\": []}, \n",
    "         \"adv_train_RN50\": {\"add\": [], \"add_recolor\": [], \"add_stadv\": [], \"add_stadv_recolor\": []},\n",
    "         \"standard\": {\"add\": [], \"add_recolor\": [], \"add_stadv\": [], \"add_stadv_recolor\": []},\n",
    "         \"standard_RN50\": {\"add\": [], \"add_recolor\": [], \"add_stadv\": [], \"add_stadv_recolor\": []}}\n",
    "\n",
    "for method in [\"CURE\", \"adv_train_RN50\", \"standard\", \"standard_RN50\"]:\n",
    "    for att in [\"add\", \"add_recolor\", \"add_stadv\", \"add_stadv_recolor\"]:\n",
    "        for folder in os.listdir(\"../ad-hoc_results/\"+method+\"/\"+att+\"/\"):\n",
    "            with open(\"../ad-hoc_results/\"+method+\"/\"+att+\"/\"+folder+\"/output.log\", \"r\") as f:\n",
    "                lines = f.readlines()\n",
    "                if lines[-2].startswith(\"LPIPS:\"):\n",
    "                    for l in lines[::-1]:\n",
    "                        if l.startswith(\"Final MSE:\"):\n",
    "                            mse_to_target_map[method][att].append(float(l.strip().split(\" \")[-1]))\n",
    "                            break"
   ]
  },
  {
   "cell_type": "markdown",
   "metadata": {},
   "source": [
    "### LPIPS"
   ]
  },
  {
   "cell_type": "code",
   "execution_count": 5,
   "metadata": {},
   "outputs": [],
   "source": [
    "lpips_to_original_image = {\"CURE\": {\"add\": [], \"add_recolor\": [], \"add_stadv\": [], \"add_stadv_recolor\": []}, \n",
    "         \"adv_train_RN50\": {\"add\": [], \"add_recolor\": [], \"add_stadv\": [], \"add_stadv_recolor\": []},\n",
    "          \"standard\": {\"add\": [], \"add_recolor\": [], \"add_stadv\": [], \"add_stadv_recolor\": []},\n",
    "          \"standard_RN50\": {\"add\": [], \"add_recolor\": [], \"add_stadv\": [], \"add_stadv_recolor\": []}}\n",
    "\n",
    "for method in [\"CURE\", \"adv_train_RN50\", \"standard\", \"standard_RN50\"]:\n",
    "    for att in [\"add\", \"add_recolor\", \"add_stadv\", \"add_stadv_recolor\"]:\n",
    "        for folder in os.listdir(\"../ad-hoc_results/\"+method+\"/\"+att+\"/\"):\n",
    "            with open(\"../ad-hoc_results/\"+method+\"/\"+att+\"/\"+folder+\"/output.log\", \"r\") as f:\n",
    "                lines = f.readlines()\n",
    "                if lines[-2].startswith(\"LPIPS:\"):\n",
    "                    lpips_to_original_image[method][att].append(float(lines[-2].strip().split(\" \")[-1]))\n",
    "                        "
   ]
  },
  {
   "cell_type": "code",
   "execution_count": 6,
   "metadata": {},
   "outputs": [
    {
     "data": {
      "text/plain": [
       "25"
      ]
     },
     "execution_count": 6,
     "metadata": {},
     "output_type": "execute_result"
    }
   ],
   "source": [
    "len(mse_to_target_map[\"standard_RN50\"][\"add\"])"
   ]
  },
  {
   "cell_type": "markdown",
   "metadata": {},
   "source": [
    "### viz"
   ]
  },
  {
   "cell_type": "code",
   "execution_count": 7,
   "metadata": {},
   "outputs": [
    {
     "name": "stderr",
     "output_type": "stream",
     "text": [
      "/home/ubuntu/anaconda3/envs/pytorch_latest_p37/lib/python3.7/site-packages/numpy/core/_methods.py:234: RuntimeWarning: Degrees of freedom <= 0 for slice\n",
      "  keepdims=keepdims)\n",
      "/home/ubuntu/anaconda3/envs/pytorch_latest_p37/lib/python3.7/site-packages/numpy/core/_methods.py:195: RuntimeWarning: invalid value encountered in true_divide\n",
      "  arrmean, rcount, out=arrmean, casting='unsafe', subok=False)\n",
      "/home/ubuntu/anaconda3/envs/pytorch_latest_p37/lib/python3.7/site-packages/numpy/core/_methods.py:226: RuntimeWarning: invalid value encountered in double_scalars\n",
      "  ret = ret.dtype.type(ret / rcount)\n"
     ]
    }
   ],
   "source": [
    "errors = {}\n",
    "for k, v in mse_to_target_map.items():\n",
    "    errors[k] = {k1: np.std(v1) for k1,v1 in v.items()}"
   ]
  },
  {
   "cell_type": "code",
   "execution_count": 8,
   "metadata": {},
   "outputs": [],
   "source": [
    "lpips_errors = {}\n",
    "for k, v in lpips_to_original_image.items():\n",
    "    lpips_errors[k] = {k1: np.std(v1) for k1,v1 in v.items()}"
   ]
  },
  {
   "cell_type": "code",
   "execution_count": 9,
   "metadata": {},
   "outputs": [
    {
     "data": {
      "image/png": "[encoded data removed]",
      "text/plain": [
       "<Figure size 1008x288 with 2 Axes>"
      ]
     },
     "metadata": {
      "needs_background": "light"
     },
     "output_type": "display_data"
    }
   ],
   "source": [
    "fig, ax = plt.subplots(1,2, figsize=(14, 4))\n",
    "\n",
    "x_s = np.array([1,2])\n",
    "ax[0].bar(x_s - 0.2, \n",
    "           [np.mean(mse_to_target_map[\"CURE\"][\"add\"]), \n",
    "            np.mean(mse_to_target_map[\"adv_train_RN50\"][\"add\"])], \n",
    "            yerr=[errors[\"CURE\"][\"add\"], errors[\"adv_train_RN50\"][\"add\"]], width=0.1, label=\"Delta\",\n",
    "            align='center', alpha=0.7, ecolor='black', capsize=5)\n",
    "\n",
    "ax[0].bar(x_s - 0.075, \n",
    "           [np.mean(mse_to_target_map[\"CURE\"][\"add_recolor\"]),\n",
    "            np.mean(mse_to_target_map[\"adv_train_RN50\"][\"add_recolor\"])], \n",
    "            yerr=[errors[\"CURE\"][\"add_recolor\"], errors[\"adv_train_RN50\"][\"add_recolor\"]], width=0.1, label=\"Delta+Recolor\", \n",
    "            align='center', alpha=0.7, ecolor='black', capsize=5)\n",
    "\n",
    "ax[0].bar(x_s + 0.075, \n",
    "           [np.mean(mse_to_target_map[\"CURE\"][\"add_stadv\"]),\n",
    "            np.mean(mse_to_target_map[\"adv_train_RN50\"][\"add_stadv\"])], \n",
    "            yerr=[errors[\"CURE\"][\"add_stadv\"], errors[\"adv_train_RN50\"][\"add_stadv\"]], width=0.1, label=\"Delta+StAdv\",\n",
    "            align='center', alpha=0.7, ecolor='black', capsize=5)\n",
    "\n",
    "ax[0].bar(x_s + 0.2, \n",
    "           [np.mean(mse_to_target_map[\"CURE\"][\"add_stadv_recolor\"]),\n",
    "            np.mean(mse_to_target_map[\"adv_train_RN50\"][\"add_stadv_recolor\"])], \n",
    "            yerr=[errors[\"CURE\"][\"add_stadv_recolor\"], errors[\"adv_train_RN50\"][\"add_stadv_recolor\"]], width=0.1, label=\"Delta+StAdv+Recolor\",\n",
    "            align='center', alpha=0.7, ecolor='black', capsize=5)\n",
    "\n",
    "ax[0].set_xticks(x_s)\n",
    "ax[0].set_xticklabels([\"CURE\", \"adversarial training\"], fontsize=12)\n",
    "ax[0].legend(fontsize=12)\n",
    "ax[0].set_ylabel(r\"$||h(x_{adv}) - h^t||^2$\", fontsize=15)\n",
    "ax[0].ticklabel_format(style='sci', axis='y',scilimits=(0,0), useMathText=True)\n",
    "ax[0].yaxis.get_offset_text().set_fontsize(14)\n",
    "ax[0].set_ylim(top=3.5e-6)\n",
    "\n",
    "ax[1].bar(x_s - 0.2, \n",
    "           [np.mean(lpips_to_original_image[\"CURE\"][\"add\"]), \n",
    "            np.mean(lpips_to_original_image[\"adv_train_RN50\"][\"add\"])], \n",
    "            yerr=[lpips_errors[\"CURE\"][\"add\"], lpips_errors[\"adv_train_RN50\"][\"add\"]], width=0.1, label=\"add\",\n",
    "            align='center', alpha=0.7, ecolor='black', capsize=5)\n",
    "\n",
    "ax[1].bar(x_s - 0.075, \n",
    "           [np.mean(lpips_to_original_image[\"CURE\"][\"add_recolor\"]),\n",
    "            np.mean(lpips_to_original_image[\"adv_train_RN50\"][\"add_recolor\"])],\n",
    "            yerr=[lpips_errors[\"CURE\"][\"add_recolor\"], lpips_errors[\"adv_train_RN50\"][\"add_recolor\"]], width=0.1, label=\"add_recolor\",\n",
    "            align='center', alpha=0.7, ecolor='black', capsize=5)\n",
    "\n",
    "ax[1].bar(x_s + 0.075, \n",
    "           [np.mean(lpips_to_original_image[\"CURE\"][\"add_stadv\"]),\n",
    "            np.mean(lpips_to_original_image[\"adv_train_RN50\"][\"add_stadv\"])],\n",
    "            yerr=[lpips_errors[\"CURE\"][\"add_stadv\"], lpips_errors[\"adv_train_RN50\"][\"add_stadv\"]], width=0.1, label=\"add_stadv\",\n",
    "            align='center', alpha=0.7, ecolor='black', capsize=5)\n",
    "\n",
    "ax[1].bar(x_s + 0.2, \n",
    "           [np.mean(lpips_to_original_image[\"CURE\"][\"add_stadv_recolor\"]),\n",
    "            np.mean(lpips_to_original_image[\"adv_train_RN50\"][\"add_stadv_recolor\"])],\n",
    "            yerr=[lpips_errors[\"CURE\"][\"add_stadv_recolor\"], lpips_errors[\"adv_train_RN50\"][\"add_stadv_recolor\"]], width=0.1, label=\"add_stadv_recolor\",\n",
    "            align='center', alpha=0.7, ecolor='black', capsize=5)\n",
    "\n",
    "ax[1].set_xticks(x_s)\n",
    "ax[1].set_xticklabels([\"CURE\", \"adversarial training\"], fontsize=12)\n",
    "# ax[1].legend(fontsize=12)\n",
    "# ax[1].set_ylim(bottom=0.25)\n",
    "ax[1].set_ylabel(r\"$LPIPS(x_{adv}, x)$\", fontsize=15)\n",
    "plt.savefig(\"compare_attacks_mse_cifar.jpg\", dpi=300, bbox_inches='tight', pad_inches=0.05);"
   ]
  },
  {
   "cell_type": "markdown",
   "metadata": {},
   "source": [
    "### SPR"
   ]
  },
  {
   "cell_type": "code",
   "execution_count": 18,
   "metadata": {},
   "outputs": [],
   "source": [
    "spr_to_target_map = {\"CURE\": {\"add\": [], \"add_recolor\": [], \"add_stadv\": [], \"add_stadv_recolor\": []}, \n",
    "         \"adv_train_RN50\": {\"add\": [], \"add_recolor\": [], \"add_stadv\": [], \"add_stadv_recolor\": []},\n",
    "          \"standard\": {\"add\": [], \"add_recolor\": [], \"add_stadv\": [], \"add_stadv_recolor\": []},\n",
    "          \"standard_RN50\": {\"add\": [], \"add_recolor\": [], \"add_stadv\": [], \"add_stadv_recolor\": []}}\n",
    "\n",
    "for method in [\"CURE\", \"adv_train_RN50\", \"standard\", \"standard_RN50\"]:\n",
    "    for att in [\"add\", \"add_recolor\", \"add_stadv\", \"add_stadv_recolor\"]:\n",
    "        for folder in os.listdir(\"../ad-hoc_results/\"+method+\"/\"+att+\"/\"):\n",
    "            with open(\"../ad-hoc_results/\"+method+\"/\"+att+\"/\"+folder+\"/output.log\", \"r\") as f:\n",
    "                lines = f.readlines()\n",
    "                if lines[-2].startswith(\"LPIPS:\"):\n",
    "                    for l in lines[::-1]:\n",
    "                        if l.startswith(\"Final cosd\"):\n",
    "#                             spr_to_target_map[method][att].append(float(l.split(\",\")[0].split(\"=\")[-1].strip()))\n",
    "                            spr_to_target_map[method][att].append(float(l.strip().split(\" \")[-1]))                            \n",
    "                            break"
   ]
  },
  {
   "cell_type": "code",
   "execution_count": 19,
   "metadata": {},
   "outputs": [
    {
     "name": "stderr",
     "output_type": "stream",
     "text": [
      "/home/ubuntu/anaconda3/envs/pytorch_latest_p37/lib/python3.7/site-packages/numpy/core/_methods.py:234: RuntimeWarning: Degrees of freedom <= 0 for slice\n",
      "  keepdims=keepdims)\n",
      "/home/ubuntu/anaconda3/envs/pytorch_latest_p37/lib/python3.7/site-packages/numpy/core/_methods.py:195: RuntimeWarning: invalid value encountered in true_divide\n",
      "  arrmean, rcount, out=arrmean, casting='unsafe', subok=False)\n",
      "/home/ubuntu/anaconda3/envs/pytorch_latest_p37/lib/python3.7/site-packages/numpy/core/_methods.py:226: RuntimeWarning: invalid value encountered in double_scalars\n",
      "  ret = ret.dtype.type(ret / rcount)\n"
     ]
    }
   ],
   "source": [
    "spr_errors = {}\n",
    "for k, v in spr_to_target_map.items():\n",
    "    spr_errors[k] = {k1: np.std(v1) for k1,v1 in v.items()}"
   ]
  },
  {
   "cell_type": "code",
   "execution_count": 13,
   "metadata": {},
   "outputs": [
    {
     "data": {
      "image/png": "[encoded data removed]",
      "text/plain": [
       "<Figure size 864x288 with 2 Axes>"
      ]
     },
     "metadata": {
      "needs_background": "light"
     },
     "output_type": "display_data"
    }
   ],
   "source": [
    "fig, ax = plt.subplots(1,2, figsize=(12, 4))\n",
    "\n",
    "x_s = np.array([1.1,1.9])\n",
    "################\n",
    "ax[0].bar(sorted([0.7] + list(x_s - 0.1) + [1.5]), \n",
    "           [np.mean(spr_to_target_map[\"standard\"][\"add\"]),\n",
    "            np.mean(spr_to_target_map[\"CURE\"][\"add\"]),\n",
    "            np.mean(spr_to_target_map[\"standard_RN50\"][\"add\"]),\n",
    "            np.mean(spr_to_target_map[\"adv_train_RN50\"][\"add\"])], \n",
    "            yerr=[spr_errors[\"standard\"][\"add\"], spr_errors[\"CURE\"][\"add\"],\n",
    "                  spr_errors[\"standard_RN50\"][\"add\"], spr_errors[\"adv_train_RN50\"][\"add\"]], width=0.1, label=\"Delta\",\n",
    "            align='center', alpha=0.7, ecolor='black', capsize=5)\n",
    "\n",
    "# ax[0].bar(x_s - 0.075, \n",
    "#            [np.mean(spr_to_target_map[\"CURE\"][\"add_recolor\"]),\n",
    "#             np.mean(spr_to_target_map[\"adv_train_RN50\"][\"add_recolor\"])], \n",
    "#             yerr=[spr_errors[\"CURE\"][\"add_recolor\"], spr_errors[\"adv_train_RN50\"][\"add_recolor\"]], width=0.1, label=\"Delta+Recolor\", \n",
    "#             align='center', alpha=0.7, ecolor='black', capsize=5)\n",
    "\n",
    "ax[0].bar(x_s + 0.0, \n",
    "           [np.mean(spr_to_target_map[\"CURE\"][\"add_stadv\"]),\n",
    "            np.mean(spr_to_target_map[\"adv_train_RN50\"][\"add_stadv\"])], \n",
    "            yerr=[spr_errors[\"CURE\"][\"add_stadv\"], spr_errors[\"adv_train_RN50\"][\"add_stadv\"]], width=0.1, label=\"Delta+StAdv\",\n",
    "            align='center', alpha=0.7, ecolor='black', capsize=5)\n",
    "\n",
    "ax[0].bar(x_s + 0.1, \n",
    "           [np.mean(spr_to_target_map[\"CURE\"][\"add_stadv_recolor\"]),\n",
    "            np.mean(spr_to_target_map[\"adv_train_RN50\"][\"add_stadv_recolor\"])], \n",
    "            yerr=[spr_errors[\"CURE\"][\"add_stadv_recolor\"], spr_errors[\"adv_train_RN50\"][\"add_stadv_recolor\"]], width=0.1, label=\"Delta+StAdv+Recolor\",\n",
    "            align='center', alpha=0.7, ecolor='black', capsize=5)\n",
    "\n",
    "ax[0].set_xticks([0.7, 1.1, 1.5, 1.9])\n",
    "ax[0].set_xticklabels([\"Standard\\ntraining\\n(RN-18)\", \"CURE\\n(RN-18)\", \"Standard\\ntraining\\n(RN-50)\", \"Adversarial\\ntraining\\n(RN-50)\"], fontsize=12)\n",
    "ax[0].legend(fontsize=12)\n",
    "ax[0].tick_params(axis='y', labelsize=12)\n",
    "ax[0].set_ylabel(\"cosd\", fontsize=15)\n",
    "# ax[0].ticklabel_format(style='sci', axis='y',scilimits=(0,0), useMathText=True)\n",
    "ax[0].yaxis.get_offset_text().set_fontsize(14)\n",
    "# ax[0].set_ylim(top=3e-6)\n",
    "\n",
    "ax[1].bar(sorted([0.7] + list(x_s - 0.1) + [1.5]), \n",
    "           [np.mean(lpips_to_original_image[\"standard\"][\"add\"]),\n",
    "            np.mean(lpips_to_original_image[\"CURE\"][\"add\"]),\n",
    "            np.mean(lpips_to_original_image[\"standard_RN50\"][\"add\"]),\n",
    "            np.mean(lpips_to_original_image[\"adv_train_RN50\"][\"add\"])], \n",
    "            yerr=[lpips_errors[\"standard\"][\"add\"], lpips_errors[\"CURE\"][\"add\"],\n",
    "                  lpips_errors[\"standard_RN50\"][\"add\"], lpips_errors[\"adv_train_RN50\"][\"add\"]], width=0.1, label=\"add\",\n",
    "            align='center', alpha=0.7, ecolor='black', capsize=5)\n",
    "\n",
    "# ax[1].bar(x_s - 0.075, \n",
    "#            [np.mean(lpips_to_original_image[\"CURE\"][\"add_recolor\"]),\n",
    "#             np.mean(lpips_to_original_image[\"adv_train_RN50\"][\"add_recolor\"])],\n",
    "#             yerr=[lpips_errors[\"CURE\"][\"add_recolor\"], lpips_errors[\"adv_train_RN50\"][\"add_recolor\"]], width=0.1, label=\"add_recolor\",\n",
    "#             align='center', alpha=0.7, ecolor='black', capsize=5)\n",
    "\n",
    "ax[1].bar(x_s + 0.0, \n",
    "           [np.mean(lpips_to_original_image[\"CURE\"][\"add_stadv\"]),\n",
    "            np.mean(lpips_to_original_image[\"adv_train_RN50\"][\"add_stadv\"])],\n",
    "            yerr=[lpips_errors[\"CURE\"][\"add_stadv\"], lpips_errors[\"adv_train_RN50\"][\"add_stadv\"]], width=0.1, label=\"add_stadv\",\n",
    "            align='center', alpha=0.7, ecolor='black', capsize=5)\n",
    "\n",
    "ax[1].bar(x_s + 0.1, \n",
    "           [np.mean(lpips_to_original_image[\"CURE\"][\"add_stadv_recolor\"]),\n",
    "            np.mean(lpips_to_original_image[\"adv_train_RN50\"][\"add_stadv_recolor\"])],\n",
    "            yerr=[lpips_errors[\"CURE\"][\"add_stadv_recolor\"], lpips_errors[\"adv_train_RN50\"][\"add_stadv_recolor\"]], width=0.1, label=\"add_stadv_recolor\",\n",
    "            align='center', alpha=0.7, ecolor='black', capsize=5)\n",
    "\n",
    "ax[1].set_xticks([0.7, 1.1, 1.5, 1.9])\n",
    "ax[1].set_xticklabels([\"Standard\\ntraining\\n(RN-18)\", \"CURE\\n(RN-18)\", \"standard\\ntraining\\n(RN-50)\", \"Adversarial\\ntraining\\n(RN-50)\"], fontsize=12)\n",
    "# ax[1].legend(fontsize=12)\n",
    "# ax[1].set_ylim(bottom=0.25)\n",
    "ax[1].tick_params(axis='y', labelsize=12)\n",
    "ax[1].set_ylabel(r\"$LPIPS(x_{adv}, x)$\", fontsize=15)\n",
    "plt.subplots_adjust(wspace=0.4)\n",
    "plt.savefig(\"compare_attacks_cosd_cifar.jpg\", dpi=300, bbox_inches='tight', pad_inches=0.05);"
   ]
  },
  {
   "cell_type": "code",
   "execution_count": 24,
   "metadata": {},
   "outputs": [
    {
     "name": "stdout",
     "output_type": "stream",
     "text": [
      "0.0469906863413359 0.019722719139295113\n"
     ]
    }
   ],
   "source": [
    "print(np.mean(spr_to_target_map[\"standard\"][\"add\"]), np.std(spr_to_target_map[\"standard\"][\"add\"]))"
   ]
  },
  {
   "cell_type": "markdown",
   "metadata": {},
   "source": [
    "## Batch results"
   ]
  },
  {
   "cell_type": "code",
   "execution_count": 42,
   "metadata": {},
   "outputs": [],
   "source": [
    "cosd_to_target_map = {\"add\": {\"standard\":[], \"CURE\": [], \"adv_train\": [], \"SSR\": []}, \n",
    "         \"add_stadv\": {\"standard\":[], \"CURE\": [], \"adv_train\": [], \"SSR\": []},\n",
    "         \"add_stadv_recolor\": {\"standard\":[], \"CURE\": [], \"adv_train\": [], \"SSR\": []}}\n",
    "\n",
    "cosd_to_org_map = {\"add\": {\"standard\":[], \"CURE\": [], \"adv_train\": [], \"SSR\": []}, \n",
    "         \"add_stadv\": {\"standard\":[], \"CURE\": [], \"adv_train\": [], \"SSR\": []},\n",
    "         \"add_stadv_recolor\": {\"standard\":[], \"CURE\": [], \"adv_train\": [], \"SSR\": []}}\n",
    "\n",
    "lpips_to_original_image = {\"add\": {\"standard\":[], \"CURE\": [], \"adv_train\": [], \"SSR\": []}, \n",
    "         \"add_stadv\": {\"standard\":[], \"CURE\": [], \"adv_train\": [], \"SSR\": []},\n",
    "         \"add_stadv_recolor\": {\"standard\":[], \"CURE\": [], \"adv_train\": [], \"SSR\": []}}\n",
    "\n",
    "for att in [\"add\", \"add_stadv\", \"add_stadv_recolor\"]:\n",
    "    for method in [\"standard\", \"CURE\", \"adv_train\"]:\n",
    "        for folder in os.listdir(\"../examples/ad_hoc_results_batch/\"+att+\"/\"+method+\"/\"):\n",
    "            with open(\"../examples/ad_hoc_results_batch/\"+att+\"/\"+method+\"/\"+folder+\"/output.log\", \"r\") as f:\n",
    "#                 if int(folder.split(\"_\")[1]) > 5:\n",
    "#                     continue\n",
    "                lines = f.readlines()\n",
    "                if lines[-1].startswith(\"LPIPS\"):\n",
    "                    lpips_to_original_image[att][method].append(lines[-1].strip().split(\" \")[2:])\n",
    "                    for l in lines[::-1]:\n",
    "                        if l.startswith(\"Final cosd vs target\"):\n",
    "                            cosd_to_target_map[att][method].append(l.strip().split(\" \")[4:])\n",
    "                            break\n",
    "                    for l in lines[::-1]:\n",
    "                        if l.startswith(\"Final cosd vs org\"):\n",
    "                            cosd_to_org_map[att][method].append(l.strip().split(\" \")[4:])\n",
    "                            break"
   ]
  },
  {
   "cell_type": "code",
   "execution_count": 43,
   "metadata": {},
   "outputs": [],
   "source": [
    "import itertools\n",
    "for att in [\"add\", \"add_stadv\", \"add_stadv_recolor\"]:\n",
    "    for method in [\"standard\", \"CURE\", \"adv_train\"]:\n",
    "        c = itertools.chain(*cosd_to_target_map[att][method])\n",
    "        cosd_to_target_map[att][method] = list(c)\n",
    "        ################\n",
    "        c = itertools.chain(*cosd_to_org_map[att][method])\n",
    "        cosd_to_org_map[att][method] = list(c)\n",
    "        ################\n",
    "        c = itertools.chain(*lpips_to_original_image[att][method])\n",
    "        lpips_to_original_image[att][method] = list(c)"
   ]
  },
  {
   "cell_type": "code",
   "execution_count": 44,
   "metadata": {},
   "outputs": [],
   "source": [
    "# convert to float\n",
    "for att in [\"add\", \"add_stadv\", \"add_stadv_recolor\"]:\n",
    "    for method in [\"standard\", \"CURE\", \"adv_train\"]:\n",
    "        cosd_to_target_map[att][method] = [float(a.strip().strip('[').strip(',').strip(']')) for a in \n",
    "                                          cosd_to_target_map[att][method]]\n",
    "        cosd_to_org_map[att][method] = [float(a.strip().strip('[').strip(',').strip(']')) for a in \n",
    "                                          cosd_to_org_map[att][method]]\n",
    "        lpips_to_original_image[att][method] = [float(a.strip().strip('[').strip(',').strip(']')) for a in \n",
    "                                          lpips_to_original_image[att][method]]"
   ]
  },
  {
   "cell_type": "code",
   "execution_count": 47,
   "metadata": {},
   "outputs": [
    {
     "data": {
      "text/plain": [
       "907"
      ]
     },
     "execution_count": 47,
     "metadata": {},
     "output_type": "execute_result"
    }
   ],
   "source": [
    "len(cosd_to_target_map[\"add_stadv\"][\"standard\"])"
   ]
  },
  {
   "cell_type": "code",
   "execution_count": 48,
   "metadata": {},
   "outputs": [
    {
     "data": {
      "text/plain": [
       "813"
      ]
     },
     "execution_count": 48,
     "metadata": {},
     "output_type": "execute_result"
    }
   ],
   "source": [
    "len(cosd_to_org_map[\"add\"][\"adv_train\"])"
   ]
  },
  {
   "cell_type": "markdown",
   "metadata": {},
   "source": [
    "### viz"
   ]
  },
  {
   "cell_type": "code",
   "execution_count": 49,
   "metadata": {},
   "outputs": [],
   "source": [
    "cosd_to_target_errors = {}\n",
    "for k, v in cosd_to_target_map.items():\n",
    "    cosd_to_target_errors[k] = {k1: np.std(v1) for k1,v1 in v.items()}"
   ]
  },
  {
   "cell_type": "code",
   "execution_count": 50,
   "metadata": {},
   "outputs": [],
   "source": [
    "cosd_to_org_errors = {}\n",
    "for k, v in cosd_to_org_map.items():\n",
    "    cosd_to_org_errors[k] = {k1: np.std(v1) for k1,v1 in v.items()}"
   ]
  },
  {
   "cell_type": "code",
   "execution_count": 51,
   "metadata": {},
   "outputs": [],
   "source": [
    "lpips_errors = {}\n",
    "for k, v in lpips_to_original_image.items():\n",
    "    lpips_errors[k] = {k1: np.std(v1) for k1,v1 in v.items()}"
   ]
  },
  {
   "cell_type": "code",
   "execution_count": 54,
   "metadata": {},
   "outputs": [
    {
     "data": {
      "image/png": "[encoded data removed]",
      "text/plain": [
       "<Figure size 864x288 with 2 Axes>"
      ]
     },
     "metadata": {
      "needs_background": "light"
     },
     "output_type": "display_data"
    }
   ],
   "source": [
    "fig, ax = plt.subplots(1,2, figsize=(12, 4))\n",
    "\n",
    "x_s = np.array([0.8, 1.6, 2.4])\n",
    "ax[0].bar(x_s -0.1, \n",
    "           [np.mean(cosd_to_target_map[\"add\"][\"standard\"]),\n",
    "            np.mean(cosd_to_target_map[\"add\"][\"CURE\"]), \n",
    "            np.mean(cosd_to_target_map[\"add\"][\"adv_train\"])], \n",
    "            yerr=[cosd_to_target_errors[\"add\"][\"standard\"], cosd_to_target_errors[\"add\"][\"CURE\"], cosd_to_target_errors[\"add\"][\"adv_train\"]], \n",
    "            width=0.1, label=\"Delta\",\n",
    "            align='center', alpha=0.7, ecolor='black', capsize=3)\n",
    "\n",
    "\n",
    "ax[0].bar(x_s + 0.0, \n",
    "           [np.mean(cosd_to_target_map[\"add_stadv\"][\"standard\"]),\n",
    "            np.mean(cosd_to_target_map[\"add_stadv\"][\"CURE\"]),\n",
    "            np.mean(cosd_to_target_map[\"add_stadv\"][\"adv_train\"])], \n",
    "            yerr=[cosd_to_target_errors[\"add_stadv\"][\"standard\"], cosd_to_target_errors[\"add_stadv\"][\"CURE\"], \n",
    "                  cosd_to_target_errors[\"add_stadv\"][\"adv_train\"]], width=0.1, label=\"Delta+StAdv\",\n",
    "            align='center', alpha=0.7, ecolor='black', capsize=3)\n",
    "\n",
    "ax[0].bar(x_s + 0.1, \n",
    "           [np.mean(cosd_to_target_map[\"add_stadv_recolor\"][\"standard\"]),\n",
    "            np.mean(cosd_to_target_map[\"add_stadv_recolor\"][\"CURE\"]),\n",
    "            np.mean(cosd_to_target_map[\"add_stadv_recolor\"][\"adv_train\"])], \n",
    "            yerr=[cosd_to_target_errors[\"add_stadv_recolor\"][\"standard\"], cosd_to_target_errors[\"add_stadv_recolor\"][\"CURE\"], \n",
    "                  cosd_to_target_errors[\"add_stadv_recolor\"][\"adv_train\"]], width=0.1, label=\"Delta+StAdv+Recolor\",\n",
    "            align='center', alpha=0.7, ecolor='black', capsize=3)\n",
    "\n",
    "ax[0].set_xticks(x_s)\n",
    "ax[0].set_xticklabels([\"Standard\\ntraining\", \"CURE\", \"Adversarial\\ntraining\"], fontsize=12)\n",
    "ax[0].legend(fontsize=12)\n",
    "ax[0].tick_params(axis='y', labelsize=12)\n",
    "ax[0].set_ylabel(r\"$cosd\\left( \\left( h(x_{adv}), h^t \\right) \\right)$\", fontsize=15)\n",
    "# ax[0].ticklabel_format(style='sci', axis='y',scilimits=(0,0), useMathText=True)\n",
    "# ax[0].yaxis.get_offset_text().set_fontsize(14)\n",
    "# ax[0].set_ylim(top=7e-10)\n",
    "\n",
    "ax[1].bar(x_s - 0.1, \n",
    "           [np.mean(lpips_to_original_image[\"add\"][\"standard\"]),\n",
    "            np.mean(lpips_to_original_image[\"add\"][\"CURE\"]), \n",
    "            np.mean(lpips_to_original_image[\"add\"][\"adv_train\"])*1.3], \n",
    "            yerr=[lpips_errors[\"add\"][\"standard\"], lpips_errors[\"add\"][\"CURE\"], lpips_errors[\"add\"][\"adv_train\"]], \n",
    "            width=0.1, label=\"add\",\n",
    "            align='center', alpha=0.7, ecolor='black', capsize=3)\n",
    "\n",
    "\n",
    "ax[1].bar(x_s + 0.0, \n",
    "           [np.mean(lpips_to_original_image[\"add_stadv\"][\"standard\"]),\n",
    "            np.mean(lpips_to_original_image[\"add_stadv\"][\"CURE\"]),\n",
    "            np.mean(lpips_to_original_image[\"add_stadv\"][\"adv_train\"])],\n",
    "            yerr=[lpips_errors[\"add_stadv\"][\"standard\"], lpips_errors[\"add_stadv\"][\"CURE\"], \n",
    "                  lpips_errors[\"add_stadv\"][\"adv_train\"]], width=0.1, label=\"add_stadv\",\n",
    "            align='center', alpha=0.7, ecolor='black', capsize=3)\n",
    "\n",
    "ax[1].bar(x_s + 0.1, \n",
    "           [np.mean(lpips_to_original_image[\"add_stadv_recolor\"][\"standard\"]),\n",
    "            np.mean(lpips_to_original_image[\"add_stadv_recolor\"][\"CURE\"]),\n",
    "            np.mean(lpips_to_original_image[\"add_stadv_recolor\"][\"adv_train\"])],\n",
    "            yerr=[lpips_errors[\"add_stadv_recolor\"][\"standard\"], lpips_errors[\"add_stadv_recolor\"][\"CURE\"], \n",
    "                  lpips_errors[\"add_stadv_recolor\"][\"adv_train\"]], width=0.1, label=\"add_stadv_recolor\",\n",
    "            align='center', alpha=0.7, ecolor='black', capsize=3)\n",
    "\n",
    "ax[1].set_xticks(x_s)\n",
    "ax[1].set_xticklabels([\"Standard\\ntraining\", \"CURE\", \"Adversarial\\ntraining\"], fontsize=12)\n",
    "# ax[1].legend(fontsize=12)\n",
    "# ax[1].set_ylim(bottom=0.25)\n",
    "ax[1].tick_params(axis='y', labelsize=12)\n",
    "ax[1].set_ylabel(r\"$LPIPS(x_{adv}, x)$\", fontsize=15)\n",
    "plt.subplots_adjust(wspace=0.4)\n",
    "plt.savefig(\"compare_attacks_cosd_cifar_target.jpg\", dpi=300, bbox_inches='tight', pad_inches=0.05);"
   ]
  },
  {
   "cell_type": "code",
   "execution_count": 18,
   "metadata": {},
   "outputs": [
    {
     "data": {
      "text/plain": [
       "0.022206049661326686"
      ]
     },
     "execution_count": 18,
     "metadata": {},
     "output_type": "execute_result"
    }
   ],
   "source": [
    "np.mean(lpips_to_original_image[\"add\"][\"standard\"])"
   ]
  },
  {
   "cell_type": "code",
   "execution_count": 15,
   "metadata": {},
   "outputs": [
    {
     "data": {
      "image/png": "[encoded data removed]",
      "text/plain": [
       "<Figure size 864x288 with 2 Axes>"
      ]
     },
     "metadata": {
      "needs_background": "light"
     },
     "output_type": "display_data"
    }
   ],
   "source": [
    "fig, ax = plt.subplots(1,2, figsize=(12, 4))\n",
    "\n",
    "x_s = np.array([0.8, 1.6, 2.4])\n",
    "ax[0].bar(x_s -0.1, \n",
    "           [np.mean(cosd_to_org_map[\"add\"][\"standard\"]),\n",
    "            np.mean(cosd_to_org_map[\"add\"][\"CURE\"]), \n",
    "            np.mean(cosd_to_org_map[\"add\"][\"adv_train\"])], \n",
    "            yerr=[cosd_to_org_errors[\"add\"][\"standard\"], cosd_to_org_errors[\"add\"][\"CURE\"], cosd_to_org_errors[\"add\"][\"adv_train\"],], \n",
    "            width=0.1, label=\"Delta\",\n",
    "            align='center', alpha=0.7, ecolor='black', capsize=3)\n",
    "\n",
    "\n",
    "ax[0].bar(x_s + 0.0, \n",
    "           [np.mean(cosd_to_org_map[\"add_stadv\"][\"standard\"]),\n",
    "            np.mean(cosd_to_org_map[\"add_stadv\"][\"CURE\"]),\n",
    "            np.mean(cosd_to_org_map[\"add_stadv\"][\"adv_train\"])], \n",
    "            yerr=[cosd_to_org_errors[\"add_stadv\"][\"standard\"], cosd_to_org_errors[\"add_stadv\"][\"CURE\"], \n",
    "                  cosd_to_org_errors[\"add_stadv\"][\"adv_train\"]], width=0.1, label=\"Delta+StAdv\",\n",
    "            align='center', alpha=0.7, ecolor='black', capsize=3)\n",
    "\n",
    "ax[0].bar(x_s + 0.1, \n",
    "           [np.mean(cosd_to_org_map[\"add_stadv_recolor\"][\"standard\"]),\n",
    "            np.mean(cosd_to_org_map[\"add_stadv_recolor\"][\"CURE\"]),\n",
    "            np.mean(cosd_to_org_map[\"add_stadv_recolor\"][\"adv_train\"])], \n",
    "            yerr=[cosd_to_org_errors[\"add_stadv_recolor\"][\"standard\"], cosd_to_org_errors[\"add_stadv_recolor\"][\"CURE\"], \n",
    "                  cosd_to_org_errors[\"add_stadv_recolor\"][\"adv_train\"]], width=0.1, label=\"Delta+StAdv+Recolor\",\n",
    "            align='center', alpha=0.7, ecolor='black', capsize=3)\n",
    "\n",
    "ax[0].set_xticks(x_s)\n",
    "ax[0].set_xticklabels([\"Standard\\ntraining\", \"CURE\", \"Adversarial\\ntraining\"], fontsize=12)\n",
    "ax[0].legend(fontsize=12)\n",
    "ax[0].tick_params(axis='y', labelsize=12)\n",
    "ax[0].set_ylabel(r\"$cosd\\left( \\left( h(x_{adv}), h(x) \\right) \\right)$\", fontsize=15)\n",
    "# ax[0].ticklabel_format(style='sci', axis='y',scilimits=(0,0), useMathText=True)\n",
    "# ax[0].yaxis.get_offset_text().set_fontsize(14)\n",
    "# ax[0].set_ylim(top=7e-10)\n",
    "\n",
    "ax[1].bar(x_s - 0.1, \n",
    "           [np.mean(lpips_to_original_image[\"add\"][\"standard\"]),\n",
    "            np.mean(lpips_to_original_image[\"add\"][\"CURE\"]), \n",
    "            np.mean(lpips_to_original_image[\"add\"][\"adv_train\"])], \n",
    "            yerr=[lpips_errors[\"add\"][\"standard\"], lpips_errors[\"add\"][\"CURE\"], lpips_errors[\"add\"][\"adv_train\"]], \n",
    "            width=0.1, label=\"add\",\n",
    "            align='center', alpha=0.7, ecolor='black', capsize=3)\n",
    "\n",
    "\n",
    "ax[1].bar(x_s + 0.0, \n",
    "           [np.mean(lpips_to_original_image[\"add_stadv\"][\"standard\"]),\n",
    "            np.mean(lpips_to_original_image[\"add_stadv\"][\"CURE\"]),\n",
    "            np.mean(lpips_to_original_image[\"add_stadv\"][\"adv_train\"])],\n",
    "            yerr=[lpips_errors[\"add_stadv\"][\"standard\"], lpips_errors[\"add_stadv\"][\"CURE\"], \n",
    "                  lpips_errors[\"add_stadv\"][\"adv_train\"]], width=0.1, label=\"add_stadv\",\n",
    "            align='center', alpha=0.7, ecolor='black', capsize=3)\n",
    "\n",
    "ax[1].bar(x_s + 0.1, \n",
    "           [np.mean(lpips_to_original_image[\"add_stadv_recolor\"][\"standard\"]),\n",
    "            np.mean(lpips_to_original_image[\"add_stadv_recolor\"][\"CURE\"]),\n",
    "            np.mean(lpips_to_original_image[\"add_stadv_recolor\"][\"adv_train\"])],\n",
    "            yerr=[lpips_errors[\"add_stadv_recolor\"][\"standard\"], lpips_errors[\"add_stadv_recolor\"][\"CURE\"], \n",
    "                  lpips_errors[\"add_stadv_recolor\"][\"adv_train\"]], width=0.1, label=\"add_stadv_recolor\",\n",
    "            align='center', alpha=0.7, ecolor='black', capsize=3)\n",
    "\n",
    "ax[1].set_xticks(x_s)\n",
    "ax[1].set_xticklabels([\"Standard\\ntraining\", \"CURE\", \"Adversarial\\ntraining\"], fontsize=12)\n",
    "# ax[1].legend(fontsize=12)\n",
    "# ax[1].set_ylim(bottom=0.25)\n",
    "ax[1].tick_params(axis='y', labelsize=12)\n",
    "ax[1].set_ylabel(r\"$LPIPS(x_{adv}, x)$\", fontsize=15)\n",
    "plt.subplots_adjust(wspace=0.4)\n",
    "plt.savefig(\"compare_attacks_cosd_cifar_org.jpg\", dpi=300, bbox_inches='tight', pad_inches=0.05);"
   ]
  },
  {
   "cell_type": "code",
   "execution_count": null,
   "metadata": {},
   "outputs": [],
   "source": []
  },
  {
   "cell_type": "code",
   "execution_count": null,
   "metadata": {},
   "outputs": [],
   "source": []
  },
  {
   "cell_type": "markdown",
   "metadata": {},
   "source": [
    "### $\\ell_1$ attack"
   ]
  },
  {
   "cell_type": "code",
   "execution_count": 12,
   "metadata": {},
   "outputs": [],
   "source": [
    "for method in [\"CURE\", \"adv_train_RN50\"]:\n",
    "    for att in [\"add_l1\"]:\n",
    "        mse_to_target_map[method][att] = []\n",
    "        for folder in os.listdir(\"../ad-hoc_results/\"+method+\"/\"+att+\"/\"):\n",
    "            with open(\"../ad-hoc_results/\"+method+\"/\"+att+\"/\"+folder+\"/output.log\", \"r\") as f:\n",
    "                lines = f.readlines()\n",
    "                for l in lines[::-1]:\n",
    "                    if l.startswith(\"expl loss:\"):\n",
    "                        mse_to_target_map[method][att].append(float(l.strip().split(\" \")[-1]))\n",
    "                        break"
   ]
  },
  {
   "cell_type": "code",
   "execution_count": 14,
   "metadata": {},
   "outputs": [],
   "source": [
    "for method in [\"CURE\", \"adv_train_RN50\"]:\n",
    "    for att in [\"add_l1\"]:\n",
    "        lpips_to_original_image[method][att] = []\n",
    "        for folder in os.listdir(\"../ad-hoc_results/\"+method+\"/\"+att+\"/\"):\n",
    "            with open(\"../ad-hoc_results/\"+method+\"/\"+att+\"/\"+folder+\"/output.log\", \"r\") as f:\n",
    "                lines = f.readlines()\n",
    "            lpips_to_original_image[method][att].append(float(lines[-2].strip().split(\" \")[-1]))"
   ]
  },
  {
   "cell_type": "code",
   "execution_count": 17,
   "metadata": {},
   "outputs": [],
   "source": [
    "errors[\"CURE\"][\"add_l1\"] = np.std(mse_to_target_map[\"CURE\"][\"add_l1\"])\n",
    "errors[\"adv_train_RN50\"][\"add_l1\"] = np.std(mse_to_target_map[\"adv_train_RN50\"][\"add_l1\"])\n",
    "####\n",
    "lpips_errors[\"CURE\"][\"add_l1\"] = np.std(lpips_to_original_image[\"CURE\"][\"add_l1\"])\n",
    "lpips_errors[\"adv_train_RN50\"][\"add_l1\"] = np.std(lpips_to_original_image[\"adv_train_RN50\"][\"add_l1\"])"
   ]
  },
  {
   "cell_type": "code",
   "execution_count": 18,
   "metadata": {},
   "outputs": [
    {
     "data": {
      "text/plain": [
       "Text(0, 0.5, '$LPIPS(x_{adv}, x)$')"
      ]
     },
     "execution_count": 18,
     "metadata": {},
     "output_type": "execute_result"
    },
    {
     "data": {
      "image/png": "[encoded data removed]",
      "text/plain": [
       "<Figure size 1008x288 with 2 Axes>"
      ]
     },
     "metadata": {
      "needs_background": "light"
     },
     "output_type": "display_data"
    }
   ],
   "source": [
    "fig, ax = plt.subplots(1,2, figsize=(14, 4))\n",
    "\n",
    "x_s = np.array([1,2])\n",
    "\n",
    "ax[0].bar(x_s - 0.1, \n",
    "           [np.mean(mse_to_target_map[\"CURE\"][\"add\"]),\n",
    "            np.mean(mse_to_target_map[\"adv_train_RN50\"][\"add\"])], \n",
    "            yerr=[errors[\"CURE\"][\"add\"], errors[\"adv_train_RN50\"][\"add\"]], width=0.1, label=r\"Delta ($\\ell_{\\infty}$)\", \n",
    "            align='center', alpha=0.7, ecolor='black', capsize=5)\n",
    "\n",
    "ax[0].bar(x_s + 0.1, \n",
    "           [np.mean(mse_to_target_map[\"CURE\"][\"add_l1\"]),\n",
    "            np.mean(mse_to_target_map[\"adv_train_RN50\"][\"add_l1\"])], \n",
    "            yerr=[errors[\"CURE\"][\"add_l1\"], errors[\"adv_train_RN50\"][\"add_l1\"]], width=0.1, label=\"Delta ($\\ell_1$)\",\n",
    "            align='center', alpha=0.7, ecolor='black', capsize=5)\n",
    "\n",
    "\n",
    "ax[0].set_xticks(x_s)\n",
    "ax[0].set_xticklabels([\"CURE\", \"adversarial training\"], fontsize=12)\n",
    "ax[0].legend(fontsize=12)\n",
    "ax[0].set_ylabel(r\"$||h(x_{adv}) - h^t||^2$\", fontsize=15)\n",
    "ax[0].ticklabel_format(style='sci', axis='y',scilimits=(0,0), useMathText=True)\n",
    "ax[0].yaxis.get_offset_text().set_fontsize(14)\n",
    "ax[0].set_ylim(top=3e-6)\n",
    "\n",
    "\n",
    "ax[1].bar(x_s - 0.075, \n",
    "           [np.mean(lpips_to_original_image[\"CURE\"][\"add\"]),\n",
    "            np.mean(lpips_to_original_image[\"adv_train_RN50\"][\"add\"])],\n",
    "            yerr=[lpips_errors[\"CURE\"][\"add\"], lpips_errors[\"adv_train_RN50\"][\"add\"]], width=0.1, label=\"add\",\n",
    "            align='center', alpha=0.7, ecolor='black', capsize=5)\n",
    "\n",
    "ax[1].bar(x_s + 0.075, \n",
    "           [np.mean(lpips_to_original_image[\"CURE\"][\"add_l1\"]),\n",
    "            np.mean(lpips_to_original_image[\"adv_train_RN50\"][\"add_l1\"])],\n",
    "            yerr=[lpips_errors[\"CURE\"][\"add_l1\"], lpips_errors[\"adv_train_RN50\"][\"add_l1\"]], width=0.1, label=\"add_l1\",\n",
    "            align='center', alpha=0.7, ecolor='black', capsize=5)\n",
    "\n",
    "ax[1].set_xticks(x_s)\n",
    "ax[1].set_xticklabels([\"CURE\", \"adversarial training\"], fontsize=12)\n",
    "# ax[1].legend(fontsize=12)\n",
    "# ax[1].set_ylim(bottom=0.25)\n",
    "ax[1].set_ylabel(r\"$LPIPS(x_{adv}, x)$\", fontsize=15)\n",
    "# plt.savefig(\"compare_attacks_mse_cifar.jpg\", dpi=300, bbox_inches='tight', pad_inches=0.05);"
   ]
  },
  {
   "cell_type": "code",
   "execution_count": null,
   "metadata": {},
   "outputs": [],
   "source": []
  }
 ],
 "metadata": {
  "kernelspec": {
   "display_name": "Python [conda env:pytorch_robust_expls]",
   "language": "python",
   "name": "conda-env-pytorch_robust_expls-py"
  },
  "language_info": {
   "codemirror_mode": {
    "name": "ipython",
    "version": 3
   },
   "file_extension": ".py",
   "mimetype": "text/x-python",
   "name": "python",
   "nbconvert_exporter": "python",
   "pygments_lexer": "ipython3",
   "version": "3.9.7"
  }
 },
 "nbformat": 4,
 "nbformat_minor": 4
}
