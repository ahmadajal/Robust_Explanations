{
 "cells": [
  {
   "cell_type": "code",
   "execution_count": 1,
   "metadata": {},
   "outputs": [],
   "source": [
    "import torch\n",
    "import torch.nn as nn\n",
    "import torchvision.transforms as transforms\n",
    "import torch.nn.functional as F\n",
    "import torchvision\n",
    "import os\n",
    "import numpy as np\n",
    "import sys\n",
    "import matplotlib.pyplot as plt\n",
    "import matplotlib \n",
    "from PIL import Image\n",
    "%matplotlib inline\n",
    "%load_ext autoreload\n",
    "%autoreload 2"
   ]
  },
  {
   "cell_type": "code",
   "execution_count": 2,
   "metadata": {},
   "outputs": [],
   "source": [
    "from captum.attr import visualization as viz\n",
    "sys.path.append(\"../attacks/\")\n",
    "from utils import get_expl, torch_to_image, load_image,  convert_relu_to_softplus, heatmap_to_image\n",
    "import mister_ed.loss_functions as lf\n",
    "import mister_ed.utils.pytorch_utils as mister_ed_utils\n",
    "from mister_ed.utils.pytorch_ssim import SSIM"
   ]
  },
  {
   "cell_type": "code",
   "execution_count": 3,
   "metadata": {},
   "outputs": [],
   "source": [
    "sys.path.append(\"../../pytorch-cifar/models/\")\n",
    "import resnet\n",
    "from resnet import ResNet18, ResNet50"
   ]
  },
  {
   "cell_type": "markdown",
   "metadata": {},
   "source": [
    "### load the images"
   ]
  },
  {
   "cell_type": "code",
   "execution_count": 4,
   "metadata": {},
   "outputs": [],
   "source": [
    "device = torch.device(\"cuda\" if torch.cuda.is_available() else \"cpu\")\n",
    "data_mean = np.array([0.4914, 0.4822, 0.4465])\n",
    "data_std = np.array([0.2023, 0.1994, 0.2010])"
   ]
  },
  {
   "cell_type": "code",
   "execution_count": 5,
   "metadata": {},
   "outputs": [],
   "source": [
    "normalizer = mister_ed_utils.DifferentiableNormalize(mean=[0.4914, 0.4822, 0.4465],\n",
    "                                               std=[0.2023, 0.1994, 0.2010])"
   ]
  },
  {
   "cell_type": "code",
   "execution_count": 6,
   "metadata": {},
   "outputs": [
    {
     "name": "stdout",
     "output_type": "stream",
     "text": [
      "Files already downloaded and verified\n"
     ]
    }
   ],
   "source": [
    "# data\n",
    "# transform_test = transforms.Compose([\n",
    "#     transforms.ToTensor(),\n",
    "#     transforms.Normalize((0.4914, 0.4822, 0.4465), (0.2023, 0.1994, 0.2010)),\n",
    "# ])\n",
    "\n",
    "cifar_test = torchvision.datasets.CIFAR10(root=\"./data\", train=False, download=True, \n",
    "                                          transform=transforms.ToTensor())\n",
    "\n",
    "test_loader = torch.utils.data.DataLoader(\n",
    "        cifar_test,\n",
    "        batch_size=128,\n",
    "        shuffle=False\n",
    "    )"
   ]
  },
  {
   "cell_type": "code",
   "execution_count": 22,
   "metadata": {},
   "outputs": [],
   "source": [
    "# dataiter = iter(test_loader)\n",
    "# image, label = next(dataiter)\n",
    "# idx=10\n",
    "# img = image[idx].unsqueeze(dim=0).to(device) # unnormalized\n",
    "# img_label = label[idx]"
   ]
  },
  {
   "cell_type": "code",
   "execution_count": 7,
   "metadata": {},
   "outputs": [],
   "source": [
    "dataiter = iter(test_loader)\n",
    "images, labels = next(dataiter)\n",
    "target_images, target_labels = next(dataiter)"
   ]
  },
  {
   "cell_type": "code",
   "execution_count": 63,
   "metadata": {},
   "outputs": [],
   "source": [
    "img_idx = 45\n",
    "target_img_idx = 120"
   ]
  },
  {
   "cell_type": "code",
   "execution_count": 64,
   "metadata": {},
   "outputs": [],
   "source": [
    "#### load images #####\n",
    "img = images[img_idx].unsqueeze(dim=0).to(device)\n",
    "img_label = torch.tensor([labels[img_idx].item()])\n",
    "#### target ######\n",
    "target_img = target_images[target_img_idx].unsqueeze(dim=0).to(device)\n",
    "target_img_label = torch.tensor([target_labels[target_img_idx].item()])\n"
   ]
  },
  {
   "cell_type": "code",
   "execution_count": 65,
   "metadata": {},
   "outputs": [],
   "source": [
    "\n",
    "##\n",
    "p_img = {\n",
    "         \"CURE\": {\"add\": 0, \"add_stadv\": 0, \"add_stadv_recolor\": 0}, \n",
    "         \"adv_train_RN50\": {\"add\": 0, \"add_stadv\": 0, \"add_stadv_recolor\": 0}}\n",
    "###\n",
    "for i in [\"CURE\", \"adv_train_RN50\"]:\n",
    "    for j in [\"add\",  \"add_stadv\", \"add_stadv_recolor\"]:\n",
    "        for file in os.listdir(\"../ad-hoc_results/\"+i+\"/\"+j+\"/\"+\"sample_{}_{}\".format(img_idx, target_img_idx)):\n",
    "            if file.startswith(\"x_\"):\n",
    "                p_img[i][j] = torch.load(\"../ad-hoc_results/\"+i+\"/\"+j+\"/\"+\"sample_{}_{}\".format(img_idx, target_img_idx)+\"/\"+file)"
   ]
  },
  {
   "cell_type": "code",
   "execution_count": 66,
   "metadata": {},
   "outputs": [],
   "source": [
    "# models\n",
    "model_adv_train = ResNet50()\n",
    "model_adv_train.load_state_dict(torch.load(\"models/RN50_linf_8_model_only.pt\"))\n",
    "model_adv_train = model_adv_train.eval().to(device)\n",
    "######\n",
    "model_cure = ResNet18()\n",
    "model_cure.load_state_dict(torch.load(\"models/RN18_CURE.pth\")[\"net\"])\n",
    "model_cure = model_cure.eval().to(device)\n",
    "######\n",
    "model_standard = ResNet18()\n",
    "model_standard.load_state_dict(torch.load(\"models/RN18_standard.pth\")[\"net\"])\n",
    "model_standard = model_standard.eval().to(device)"
   ]
  },
  {
   "cell_type": "code",
   "execution_count": 67,
   "metadata": {},
   "outputs": [],
   "source": [
    "# explanation for the standard network\n",
    "expl_standard = get_expl(model_standard, normalizer.forward(img), \"saliency\", desired_index=img_label).detach().cpu()\n",
    "torch.cuda.empty_cache()"
   ]
  },
  {
   "cell_type": "code",
   "execution_count": 68,
   "metadata": {},
   "outputs": [],
   "source": [
    "# original explanations\n",
    "expl_cure = get_expl(model_cure, normalizer.forward(img), \"saliency\", desired_index=img_label).detach().cpu()\n",
    "torch.cuda.empty_cache()\n",
    "expl_adv_train = get_expl(model_adv_train, normalizer.forward(img), \"saliency\", desired_index=img_label).detach().cpu()\n",
    "torch.cuda.empty_cache()\n",
    "\n",
    "#perturbed explanations\n",
    "p_expl = {\n",
    "         \"CURE\": {\"add\": 0, \"add_stadv\": 0, \"add_stadv_recolor\": 0}, \n",
    "         \"adv_train_RN50\": {\"add\": 0, \"add_stadv\": 0, \"add_stadv_recolor\": 0}}\n",
    "\n",
    "for i, method in enumerate([\"CURE\", \"adv_train_RN50\"]):\n",
    "    for j, att in enumerate([\"add\", \"add_stadv\", \"add_stadv_recolor\"]):\n",
    "        perturbed_img = p_img[method][att]\n",
    "        if method == \"CURE\":\n",
    "            expl = get_expl(model_cure, normalizer.forward(perturbed_img), \"saliency\", desired_index=img_label)\n",
    "        elif method == \"adv_train_RN50\":\n",
    "            expl = get_expl(model_adv_train, normalizer.forward(perturbed_img), \"saliency\", desired_index=img_label)\n",
    "        else:\n",
    "            expl = get_expl(model_standard, normalizer.forward(perturbed_img), \"saliency\", desired_index=img_label)\n",
    "        p_expl[method][att] = expl.detach().cpu()\n",
    "        del expl\n",
    "        torch.cuda.empty_cache()"
   ]
  },
  {
   "cell_type": "markdown",
   "metadata": {},
   "source": [
    "### Visualize the results"
   ]
  },
  {
   "cell_type": "code",
   "execution_count": 69,
   "metadata": {
    "scrolled": false
   },
   "outputs": [
    {
     "data": {
      "image/png": "[encoded data removed]",
      "text/plain": [
       "<Figure size 720x288 with 10 Axes>"
      ]
     },
     "metadata": {},
     "output_type": "display_data"
    }
   ],
   "source": [
    "\n",
    "\n",
    "fig, ax = plt.subplots(2, 5, figsize=(10, 4))\n",
    "\n",
    "\n",
    "# viz.visualize_image_attr(np.transpose(expl_standard.squeeze().numpy(), (1,2,0)),\n",
    "#                              np.transpose(img.squeeze().cpu().detach().numpy(), (1,2,0)),\n",
    "#                              method='heat_map',\n",
    "#                              cmap=\"Reds\",\n",
    "#                              show_colorbar=False,\n",
    "#                              outlier_perc=2,\n",
    "#                              fig_size=(3,3), plt_fig_axis=(fig, ax[0, 0]), use_pyplot=False)\n",
    "\n",
    "viz.visualize_image_attr(np.transpose(expl_cure.squeeze().numpy(), (1,2,0)),\n",
    "                             np.transpose(img.squeeze().cpu().detach().numpy(), (1,2,0)),\n",
    "                             method='heat_map',\n",
    "                             cmap=\"Reds\",\n",
    "                             show_colorbar=False,\n",
    "                             outlier_perc=2,\n",
    "                             fig_size=(3,3), plt_fig_axis=(fig, ax[0, 0]), use_pyplot=False)\n",
    "\n",
    "viz.visualize_image_attr(np.transpose(expl_adv_train.squeeze().numpy(), (1,2,0)),\n",
    "                             np.transpose(img.squeeze().cpu().detach().numpy(), (1,2,0)),\n",
    "                             method='heat_map',\n",
    "                             cmap=\"Reds\",\n",
    "                             show_colorbar=False,\n",
    "                             outlier_perc=2,\n",
    "                             fig_size=(3,3), plt_fig_axis=(fig, ax[1, 0]), use_pyplot=False)\n",
    "\n",
    "\n",
    "for i, method in enumerate([\"CURE\", \"adv_train_RN50\"]):\n",
    "    for j, att in enumerate([\"add\", \"add_stadv_recolor\"]):\n",
    "        perturbed_img = p_img[method][att]\n",
    "        ax[i, 2*j+1].imshow(torch_to_image(normalizer.forward(perturbed_img), data_mean, data_std))\n",
    "        viz.visualize_image_attr(np.transpose(p_expl[method][att].squeeze().numpy(), (1,2,0)),\n",
    "                             np.transpose(perturbed_img.squeeze().cpu().detach().numpy(), (1,2,0)),\n",
    "                             method='heat_map',\n",
    "                             cmap=\"Reds\",\n",
    "                             show_colorbar=False,\n",
    "                             outlier_perc=2,\n",
    "                             fig_size=(3,3), plt_fig_axis=(fig, ax[i, 2*j+2]), use_pyplot=False)\n",
    "#################\n",
    "for i in range(2):\n",
    "    for j in range(5):\n",
    "        ax[i,j].axis('off')\n",
    "        ax[i,j].set_xticks([])\n",
    "        ax[i,j].set_yticks([])\n",
    "# ax[0, 0].set_title(\"saliency\", fontsize=12)\n",
    "# ax[0, 1].set_title(\"smooth grad\", fontsize=12)\n",
    "# ax[0, 2].set_title(\"uniform grad\", fontsize=12)\n",
    "# fig.text(0.12, 0.75, 'standard training', style = 'oblique', fontsize = 12, horizontalalignment ='right')\n",
    "fig.text(0.12, 0.66, 'curvature reg (CURE)', style = 'oblique', fontsize = 12, horizontalalignment ='right')\n",
    "fig.text(0.12, 0.33, 'adversarial training', style = 'oblique', fontsize = 12, horizontalalignment ='right')\n",
    "\n",
    "# fig.text(0.12, 0.2, 'add+stadv+recolor', style = 'oblique', fontsize = 10, horizontalalignment ='right')\n",
    "# fig.text(0.12, 0.2, 'Softplus (saliency)', style = 'oblique', fontsize = 20, horizontalalignment ='right')\n",
    "plt.subplots_adjust(wspace=0.008, hspace=0.07)\n",
    "plt.savefig(\"compare_attacks_viz_cifar.jpg\", dpi=300, bbox_inches='tight', pad_inches=0.05);"
   ]
  },
  {
   "cell_type": "code",
   "execution_count": 70,
   "metadata": {},
   "outputs": [],
   "source": [
    "# idx=8\n",
    "# target_img = image[idx].unsqueeze(dim=0).to(device)\n",
    "# target_img_label = label[idx]"
   ]
  },
  {
   "cell_type": "code",
   "execution_count": 71,
   "metadata": {},
   "outputs": [
    {
     "data": {
      "image/png": "[encoded data removed]",
      "text/plain": [
       "<Figure size 144x432 with 3 Axes>"
      ]
     },
     "metadata": {
      "needs_background": "light"
     },
     "output_type": "display_data"
    }
   ],
   "source": [
    "fig, ax = plt.subplots(3, 1, figsize=(2, 6))\n",
    "target_expl = get_expl(model_standard, normalizer.forward(target_img), \"saliency\").detach().cpu()\n",
    "torch.cuda.empty_cache()\n",
    "\n",
    "ax[0].imshow(torch_to_image(normalizer.forward(target_img), data_mean, data_std))\n",
    "# viz.visualize_image_attr(np.transpose(target_expl.squeeze().numpy(), (1,2,0)),\n",
    "#                              np.transpose(target_img.squeeze().cpu().detach().numpy(), (1,2,0)),\n",
    "#                              method='heat_map',\n",
    "#                              cmap=\"Reds\",\n",
    "#                              show_colorbar=False,\n",
    "#                              outlier_perc=2,\n",
    "#                              fig_size=(3,3), plt_fig_axis=(fig, ax[1]), use_pyplot=False)\n",
    "\n",
    "target_expl = get_expl(model_cure, normalizer.forward(target_img), \"saliency\").detach().cpu()\n",
    "torch.cuda.empty_cache()\n",
    "viz.visualize_image_attr(np.transpose(target_expl.squeeze().numpy(), (1,2,0)),\n",
    "                             np.transpose(target_img.squeeze().cpu().detach().numpy(), (1,2,0)),\n",
    "                             method='heat_map',\n",
    "                             cmap=\"Reds\",\n",
    "                             show_colorbar=False,\n",
    "                             outlier_perc=2,\n",
    "                             fig_size=(3,3), plt_fig_axis=(fig, ax[1]), use_pyplot=False)\n",
    "\n",
    "target_expl = get_expl(model_adv_train, normalizer.forward(target_img), \"saliency\").detach().cpu()\n",
    "torch.cuda.empty_cache()\n",
    "viz.visualize_image_attr(np.transpose(target_expl.squeeze().numpy(), (1,2,0)),\n",
    "                             np.transpose(target_img.squeeze().cpu().detach().numpy(), (1,2,0)),\n",
    "                             method='heat_map',\n",
    "                             cmap=\"Reds\",\n",
    "                             show_colorbar=False,\n",
    "                             outlier_perc=2,\n",
    "                             fig_size=(3,3), plt_fig_axis=(fig, ax[2]), use_pyplot=False)\n",
    "\n",
    "ax[0].axis('off')\n",
    "ax[1].axis('off')\n",
    "ax[2].axis('off')\n",
    "# ax[3].axis('off')\n",
    "plt.subplots_adjust(wspace=0.008, hspace=0.07)\n",
    "plt.savefig(\"target_expl_map_cifar.jpg\", dpi=300, bbox_inches='tight', pad_inches=0.05);"
   ]
  },
  {
   "cell_type": "markdown",
   "metadata": {},
   "source": [
    "### Quantitative comparison"
   ]
  },
  {
   "cell_type": "markdown",
   "metadata": {},
   "source": [
    "#### MSE"
   ]
  },
  {
   "cell_type": "code",
   "execution_count": 15,
   "metadata": {},
   "outputs": [],
   "source": [
    "target_map = {\"standard\": 0, \"CURE\": 0, \"adv_train_RN50\": 0}\n",
    "target_map[\"standard\"] = get_expl(model_standard, normalizer.forward(target_img), \"saliency\", normalize=True).detach().cpu()\n",
    "torch.cuda.empty_cache()\n",
    "#\n",
    "target_map[\"CURE\"] = get_expl(model_cure, normalizer.forward(target_img), \"saliency\", normalize=True).detach().cpu()\n",
    "torch.cuda.empty_cache()\n",
    "#\n",
    "target_map[\"adv_train_RN50\"] = get_expl(model_adv_train, normalizer.forward(target_img), \"saliency\", normalize=True).detach().cpu()\n",
    "torch.cuda.empty_cache()\n"
   ]
  },
  {
   "cell_type": "code",
   "execution_count": 16,
   "metadata": {},
   "outputs": [],
   "source": [
    "mse_to_target_map = {\"standard\": {\"add\": 0, \"add_recolor\": 0, \"add_stadv\": 0, \"add_stadv_recolor\": 0},\n",
    "         \"CURE\": {\"add\": 0, \"add_recolor\": 0, \"add_stadv\": 0, \"add_stadv_recolor\": 0}, \n",
    "         \"adv_train_RN50\": {\"add\": 0, \"add_recolor\": 0, \"add_stadv\": 0, \"add_stadv_recolor\": 0}}\n",
    "\n",
    "for method in [\"standard\", \"CURE\", \"adv_train_RN50\"]:\n",
    "    for att in [\"add\", \"add_stadv\", \"add_recolor\", \"add_stadv_recolor\"]:\n",
    "        normalized_p_expl = torch.sum(p_expl[method][att].squeeze(), 0, True)\n",
    "        normalized_p_expl = normalized_p_expl / torch.sum(normalized_p_expl)\n",
    "        mse_to_target_map[method][att] = F.mse_loss(target_map[method], normalized_p_expl)"
   ]
  },
  {
   "cell_type": "code",
   "execution_count": 17,
   "metadata": {
    "scrolled": true
   },
   "outputs": [
    {
     "data": {
      "text/plain": [
       "{'standard': {'add': tensor(1.1280e-06),\n",
       "  'add_recolor': tensor(1.1401e-06),\n",
       "  'add_stadv': tensor(1.1289e-06),\n",
       "  'add_stadv_recolor': tensor(1.1115e-06)},\n",
       " 'CURE': {'add': tensor(4.3682e-07),\n",
       "  'add_recolor': tensor(4.1154e-07),\n",
       "  'add_stadv': tensor(3.8388e-07),\n",
       "  'add_stadv_recolor': tensor(3.1166e-07)},\n",
       " 'adv_train_RN50': {'add': tensor(1.2169e-06),\n",
       "  'add_recolor': tensor(8.4339e-07),\n",
       "  'add_stadv': tensor(9.0552e-07),\n",
       "  'add_stadv_recolor': tensor(7.7789e-07)}}"
      ]
     },
     "execution_count": 17,
     "metadata": {},
     "output_type": "execute_result"
    }
   ],
   "source": [
    "mse_to_target_map"
   ]
  },
  {
   "cell_type": "markdown",
   "metadata": {},
   "source": [
    "#### LPIPS similarity for images "
   ]
  },
  {
   "cell_type": "code",
   "execution_count": 18,
   "metadata": {},
   "outputs": [],
   "source": [
    "import lpips"
   ]
  },
  {
   "cell_type": "code",
   "execution_count": 19,
   "metadata": {
    "scrolled": true
   },
   "outputs": [
    {
     "name": "stdout",
     "output_type": "stream",
     "text": [
      "Setting up [LPIPS] perceptual loss: trunk [vgg], v[0.1], spatial [off]\n",
      "Loading model from: /home/ubuntu/PerceptualSimilarity/lpips/weights/v0.1/vgg.pth\n"
     ]
    }
   ],
   "source": [
    "lpips_dist = lpips.LPIPS(net='vgg')\n",
    "if torch.cuda.is_available():\n",
    "    lpips_dist.cuda()"
   ]
  },
  {
   "cell_type": "code",
   "execution_count": 20,
   "metadata": {},
   "outputs": [],
   "source": [
    "lpips_to_original_image = {\"standard\": {\"add\": 0, \"add_recolor\": 0, \"add_stadv\": 0, \"add_stadv_recolor\": 0},\n",
    "         \"CURE\": {\"add\": 0, \"add_recolor\": 0, \"add_stadv\": 0, \"add_stadv_recolor\": 0}, \n",
    "         \"adv_train_RN50\": {\"add\": 0, \"add_recolor\": 0, \"add_stadv\": 0, \"add_stadv_recolor\": 0}}\n",
    "for method in [\"standard\", \"CURE\", \"adv_train_RN50\"]:\n",
    "    for att in [\"add\", \"add_stadv\", \"add_recolor\", \"add_stadv_recolor\"]:\n",
    "        lpips_to_original_image[method][att] = lpips_dist.forward(img, p_img[method][att]).item()"
   ]
  },
  {
   "cell_type": "code",
   "execution_count": 21,
   "metadata": {},
   "outputs": [
    {
     "data": {
      "text/plain": [
       "{'standard': {'add': 0.02012418396770954,\n",
       "  'add_recolor': 0.033338505774736404,\n",
       "  'add_stadv': 0.020160522311925888,\n",
       "  'add_stadv_recolor': 0.029945751652121544},\n",
       " 'CURE': {'add': 0.1409243494272232,\n",
       "  'add_recolor': 0.13386274874210358,\n",
       "  'add_stadv': 0.12112057209014893,\n",
       "  'add_stadv_recolor': 0.14444440603256226},\n",
       " 'adv_train_RN50': {'add': 0.20724765956401825,\n",
       "  'add_recolor': 0.1883375495672226,\n",
       "  'add_stadv': 0.19383865594863892,\n",
       "  'add_stadv_recolor': 0.18541155755519867}}"
      ]
     },
     "execution_count": 21,
     "metadata": {},
     "output_type": "execute_result"
    }
   ],
   "source": [
    "lpips_to_original_image"
   ]
  },
  {
   "cell_type": "markdown",
   "metadata": {},
   "source": [
    "#### visual quantitative results"
   ]
  },
  {
   "cell_type": "code",
   "execution_count": 22,
   "metadata": {},
   "outputs": [
    {
     "data": {
      "image/png": "[encoded data removed]",
      "text/plain": [
       "<Figure size 1008x288 with 2 Axes>"
      ]
     },
     "metadata": {
      "needs_background": "light"
     },
     "output_type": "display_data"
    }
   ],
   "source": [
    "fig, ax = plt.subplots(1,2, figsize=(14, 4))\n",
    "\n",
    "x_s = np.array([1,2])\n",
    "ax[0].bar(x_s - 0.2, \n",
    "           [mse_to_target_map[\"CURE\"][\"add\"], \n",
    "            mse_to_target_map[\"adv_train_RN50\"][\"add\"]], width=0.1, label=\"Delta\")\n",
    "\n",
    "ax[0].bar(x_s - 0.075, \n",
    "           [mse_to_target_map[\"CURE\"][\"add_recolor\"],\n",
    "            mse_to_target_map[\"adv_train_RN50\"][\"add_recolor\"]], width=0.1, label=\"Delta+Recolor\")\n",
    "\n",
    "ax[0].bar(x_s + 0.075, \n",
    "           [mse_to_target_map[\"CURE\"][\"add_stadv\"],\n",
    "            mse_to_target_map[\"adv_train_RN50\"][\"add_stadv\"]], width=0.1, label=\"Delta+StAdv\")\n",
    "\n",
    "ax[0].bar(x_s + 0.2, \n",
    "           [mse_to_target_map[\"CURE\"][\"add_stadv_recolor\"],\n",
    "            mse_to_target_map[\"adv_train_RN50\"][\"add_stadv_recolor\"]], width=0.1, label=\"Delta+StAdv+Recolor\")\n",
    "\n",
    "ax[0].set_xticks(x_s)\n",
    "ax[0].set_xticklabels([\"CURE\", \"adversarial training\"], fontsize=12)\n",
    "ax[0].legend(fontsize=12)\n",
    "ax[0].set_ylabel(r\"$||h(x_{adv}) - h^t||^2$\", fontsize=15)\n",
    "ax[0].ticklabel_format(style='sci', axis='y',scilimits=(0,0), useMathText=True)\n",
    "ax[0].yaxis.get_offset_text().set_fontsize(14)\n",
    "ax[0].set_ylim(top=2e-6)\n",
    "\n",
    "ax[1].bar(x_s - 0.2, \n",
    "           [lpips_to_original_image[\"CURE\"][\"add\"], \n",
    "            lpips_to_original_image[\"adv_train_RN50\"][\"add\"]], width=0.1, label=\"add\")\n",
    "\n",
    "ax[1].bar(x_s - 0.075, \n",
    "           [lpips_to_original_image[\"CURE\"][\"add_recolor\"],\n",
    "            lpips_to_original_image[\"adv_train_RN50\"][\"add_recolor\"]], width=0.1, label=\"add_recolor\")\n",
    "\n",
    "ax[1].bar(x_s + 0.075, \n",
    "           [lpips_to_original_image[\"CURE\"][\"add_stadv\"],\n",
    "            lpips_to_original_image[\"adv_train_RN50\"][\"add_stadv\"]], width=0.1, label=\"add_stadv\")\n",
    "\n",
    "ax[1].bar(x_s + 0.2, \n",
    "           [lpips_to_original_image[\"CURE\"][\"add_stadv_recolor\"],\n",
    "            lpips_to_original_image[\"adv_train_RN50\"][\"add_stadv_recolor\"]], width=0.1, label=\"add_stadv_recolor\")\n",
    "\n",
    "ax[1].set_xticks(x_s)\n",
    "ax[1].set_xticklabels([\"CURE\", \"adversarial training\"], fontsize=12)\n",
    "# ax[1].legend(fontsize=12)\n",
    "# ax[1].set_ylim(bottom=0.25)\n",
    "ax[1].set_ylabel(r\"$LPIPS(x_{adv}, x)$\", fontsize=15)\n",
    "plt.savefig(\"compare_attacks_mse_cifar.jpg\", dpi=300, bbox_inches='tight', pad_inches=0.05);"
   ]
  },
  {
   "cell_type": "markdown",
   "metadata": {},
   "source": [
    "#### SSIM"
   ]
  },
  {
   "cell_type": "code",
   "execution_count": 12,
   "metadata": {},
   "outputs": [],
   "source": [
    "ssim_similarity = SSIM()"
   ]
  },
  {
   "cell_type": "code",
   "execution_count": 13,
   "metadata": {},
   "outputs": [],
   "source": [
    "ssim_to_original_map = {\"add\": {\"saliency\": 0, \"smooth_grad\": 0, \"uniform_grad\": 0}, \n",
    "         \"add_stadv\": {\"saliency\": 0, \"smooth_grad\": 0, \"uniform_grad\": 0},\n",
    "         \"add_recolor\": {\"saliency\": 0, \"smooth_grad\": 0, \"uniform_grad\": 0},\n",
    "         \"add_stadv_recolor\": {\"saliency\": 0, \"smooth_grad\": 0, \"uniform_grad\": 0}}\n",
    "\n",
    "for att in [\"add\", \"add_stadv\", \"add_recolor\", \"add_stadv_recolor\"]:\n",
    "    for method, org_map in zip([\"saliency\", \"smooth_grad\", \"uniform_grad\"], \n",
    "                               [expl_saliency, expl_smooth_grad, expl_uniform_grad]):\n",
    "        ssim_to_original_map[att][method] = ssim_similarity.forward(org_map, p_expl[att][method])"
   ]
  },
  {
   "cell_type": "code",
   "execution_count": 14,
   "metadata": {},
   "outputs": [
    {
     "data": {
      "text/plain": [
       "{'add': {'saliency': tensor(0.4872),\n",
       "  'smooth_grad': tensor(0.9801),\n",
       "  'uniform_grad': tensor(0.9248)},\n",
       " 'add_stadv': {'saliency': tensor(0.5004),\n",
       "  'smooth_grad': tensor(0.9632),\n",
       "  'uniform_grad': tensor(0.9183)},\n",
       " 'add_recolor': {'saliency': tensor(0.4857),\n",
       "  'smooth_grad': tensor(0.9748),\n",
       "  'uniform_grad': tensor(0.9242)},\n",
       " 'add_stadv_recolor': {'saliency': tensor(0.4955),\n",
       "  'smooth_grad': tensor(0.9670),\n",
       "  'uniform_grad': tensor(0.9122)}}"
      ]
     },
     "execution_count": 14,
     "metadata": {},
     "output_type": "execute_result"
    }
   ],
   "source": [
    "ssim_to_original_map"
   ]
  },
  {
   "cell_type": "markdown",
   "metadata": {},
   "source": [
    "#### spearman rank-order correlation"
   ]
  },
  {
   "cell_type": "code",
   "execution_count": 15,
   "metadata": {},
   "outputs": [],
   "source": [
    "from scipy.stats import spearmanr as spr\n",
    "import scipy.spatial as spatial"
   ]
  },
  {
   "cell_type": "code",
   "execution_count": 16,
   "metadata": {},
   "outputs": [],
   "source": [
    "spr_to_original_map = {\"add\": {\"saliency\": 0, \"smooth_grad\": 0, \"uniform_grad\": 0}, \n",
    "         \"add_stadv\": {\"saliency\": 0, \"smooth_grad\": 0, \"uniform_grad\": 0},\n",
    "         \"add_recolor\": {\"saliency\": 0, \"smooth_grad\": 0, \"uniform_grad\": 0},\n",
    "         \"add_stadv_recolor\": {\"saliency\": 0, \"smooth_grad\": 0, \"uniform_grad\": 0}}\n",
    "\n",
    "for att in [\"add\", \"add_stadv\", \"add_recolor\", \"add_stadv_recolor\"]:\n",
    "    for method, org_map in zip([\"saliency\", \"smooth_grad\", \"uniform_grad\"], \n",
    "                               [expl_saliency, expl_smooth_grad, expl_uniform_grad]):\n",
    "        spr_to_original_map[att][method] = spr(org_map.flatten(), p_expl[att][method].flatten())[0]"
   ]
  },
  {
   "cell_type": "code",
   "execution_count": 17,
   "metadata": {},
   "outputs": [
    {
     "data": {
      "text/plain": [
       "{'add': {'saliency': 0.13812864846985415,\n",
       "  'smooth_grad': 0.6853185343601743,\n",
       "  'uniform_grad': 0.6116536545388386},\n",
       " 'add_stadv': {'saliency': 0.13435543310168865,\n",
       "  'smooth_grad': 0.5847530882905764,\n",
       "  'uniform_grad': 0.618118020844993},\n",
       " 'add_recolor': {'saliency': 0.13082831144309479,\n",
       "  'smooth_grad': 0.6399418571554515,\n",
       "  'uniform_grad': 0.6441179753794173},\n",
       " 'add_stadv_recolor': {'saliency': 0.13146664326413446,\n",
       "  'smooth_grad': 0.6049617633483584,\n",
       "  'uniform_grad': 0.595193332003895}}"
      ]
     },
     "execution_count": 17,
     "metadata": {},
     "output_type": "execute_result"
    }
   ],
   "source": [
    "spr_to_original_map"
   ]
  },
  {
   "cell_type": "markdown",
   "metadata": {},
   "source": [
    "#### cosine distance"
   ]
  },
  {
   "cell_type": "code",
   "execution_count": 18,
   "metadata": {},
   "outputs": [],
   "source": [
    "cosd_to_original_map = {\"add\": {\"saliency\": 0, \"smooth_grad\": 0, \"uniform_grad\": 0}, \n",
    "         \"add_stadv\": {\"saliency\": 0, \"smooth_grad\": 0, \"uniform_grad\": 0},\n",
    "         \"add_recolor\": {\"saliency\": 0, \"smooth_grad\": 0, \"uniform_grad\": 0},\n",
    "         \"add_stadv_recolor\": {\"saliency\": 0, \"smooth_grad\": 0, \"uniform_grad\": 0}}\n",
    "\n",
    "for att in [\"add\", \"add_stadv\", \"add_recolor\", \"add_stadv_recolor\"]:\n",
    "    for method, org_map in zip([\"saliency\", \"smooth_grad\", \"uniform_grad\"], \n",
    "                               [expl_saliency, expl_smooth_grad, expl_uniform_grad]):\n",
    "        cosd_to_original_map[att][method] = float(spatial.distance.cosine(org_map.flatten(), \n",
    "                                                                          p_expl[att][method].flatten()))"
   ]
  },
  {
   "cell_type": "code",
   "execution_count": 19,
   "metadata": {},
   "outputs": [
    {
     "data": {
      "text/plain": [
       "{'add': {'saliency': 0.5418198704719543,\n",
       "  'smooth_grad': 0.16042709350585938,\n",
       "  'uniform_grad': 0.21913832426071167},\n",
       " 'add_stadv': {'saliency': 0.5500043332576752,\n",
       "  'smooth_grad': 0.2441752552986145,\n",
       "  'uniform_grad': 0.24832648038864136},\n",
       " 'add_recolor': {'saliency': 0.5490026473999023,\n",
       "  'smooth_grad': 0.18255573511123657,\n",
       "  'uniform_grad': 0.23156660795211792},\n",
       " 'add_stadv_recolor': {'saliency': 0.5533339083194733,\n",
       "  'smooth_grad': 0.22555547952651978,\n",
       "  'uniform_grad': 0.272874116897583}}"
      ]
     },
     "execution_count": 19,
     "metadata": {},
     "output_type": "execute_result"
    }
   ],
   "source": [
    "cosd_to_original_map"
   ]
  },
  {
   "cell_type": "markdown",
   "metadata": {},
   "source": [
    "### Additive $\\ell_1$ attack"
   ]
  },
  {
   "cell_type": "code",
   "execution_count": 37,
   "metadata": {},
   "outputs": [],
   "source": [
    "# load images\n",
    "\n",
    "##\n",
    "p_img_l1 = {\"CURE\": {\"add_l1\":0}, \n",
    "         \"adv_train_RN50\": {\"add_l1\": 0}}\n",
    "###\n",
    "for i in [\"CURE\", \"adv_train_RN50\"]:\n",
    "    for j in [\"add_l1\"]:\n",
    "        for file in os.listdir(\"../examples/output_expl_cifar/\"+i+\"/\"+j):\n",
    "            if file.startswith(\"x_\"):\n",
    "                p_img_l1[i][j] = torch.load(\"../examples/output_expl_cifar/\"+i+\"/\"+j+\"/\"+file)\n"
   ]
  },
  {
   "cell_type": "code",
   "execution_count": 38,
   "metadata": {},
   "outputs": [
    {
     "name": "stderr",
     "output_type": "stream",
     "text": [
      "/home/ubuntu/captum/captum/_utils/gradient.py:55: UserWarning: Input Tensor 0 did not already require gradients, required_grads has been set automatically.\n",
      "  \"required_grads has been set automatically.\" % index\n"
     ]
    }
   ],
   "source": [
    "# perturbed explanations l1\n",
    "p_expl_l1 = {\"CURE\": {\"add_l1\":0}, \n",
    "         \"adv_train_RN50\": {\"add_l1\": 0}}\n",
    "\n",
    "for i, method in enumerate([\"CURE\", \"adv_train_RN50\"]):\n",
    "    for j, att in enumerate([\"add_l1\"]):\n",
    "        perturbed_img = p_img_l1[method][att]\n",
    "        if method == \"CURE\":\n",
    "            expl = get_expl(model_cure, normalizer.forward(perturbed_img), \"saliency\", desired_index=img_label)\n",
    "        elif method == \"adv_train_RN50\":\n",
    "            expl = get_expl(model_adv_train, normalizer.forward(perturbed_img), \"saliency\", desired_index=img_label)\n",
    "        else:\n",
    "            pass\n",
    "        p_expl_l1[method][att] = expl.detach().cpu()\n",
    "        del expl\n",
    "        torch.cuda.empty_cache()"
   ]
  },
  {
   "cell_type": "markdown",
   "metadata": {},
   "source": [
    "#### MSE"
   ]
  },
  {
   "cell_type": "code",
   "execution_count": 39,
   "metadata": {},
   "outputs": [],
   "source": [
    "mse_to_target_map_l1 = {\"CURE\": {\"add_l1\":0}, \n",
    "         \"adv_train_RN50\": {\"add_l1\": 0}}\n",
    "\n",
    "for method in [\"CURE\", \"adv_train_RN50\"]:\n",
    "    for att in [\"add_l1\"]:\n",
    "        normalized_p_expl = torch.sum(p_expl_l1[method][att].squeeze(), 0, True)\n",
    "        normalized_p_expl = normalized_p_expl / torch.sum(normalized_p_expl)\n",
    "        mse_to_target_map_l1[method][att] = F.mse_loss(target_map[method], normalized_p_expl)"
   ]
  },
  {
   "cell_type": "code",
   "execution_count": 40,
   "metadata": {
    "scrolled": true
   },
   "outputs": [
    {
     "data": {
      "text/plain": [
       "{'CURE': {'add_l1': tensor(3.8351e-07)},\n",
       " 'adv_train_RN50': {'add_l1': tensor(7.6974e-07)}}"
      ]
     },
     "execution_count": 40,
     "metadata": {},
     "output_type": "execute_result"
    }
   ],
   "source": [
    "mse_to_target_map_l1"
   ]
  },
  {
   "cell_type": "markdown",
   "metadata": {},
   "source": [
    "#### LPIPS similarity for images "
   ]
  },
  {
   "cell_type": "code",
   "execution_count": 41,
   "metadata": {},
   "outputs": [],
   "source": [
    "import lpips"
   ]
  },
  {
   "cell_type": "code",
   "execution_count": 42,
   "metadata": {
    "scrolled": true
   },
   "outputs": [
    {
     "name": "stdout",
     "output_type": "stream",
     "text": [
      "Setting up [LPIPS] perceptual loss: trunk [vgg], v[0.1], spatial [off]\n",
      "Loading model from: /home/ubuntu/PerceptualSimilarity/lpips/weights/v0.1/vgg.pth\n"
     ]
    }
   ],
   "source": [
    "lpips_dist = lpips.LPIPS(net='vgg')\n",
    "if torch.cuda.is_available():\n",
    "    lpips_dist.cuda()"
   ]
  },
  {
   "cell_type": "code",
   "execution_count": 43,
   "metadata": {},
   "outputs": [],
   "source": [
    "lpips_to_original_image_l1 = {\"CURE\": {\"add_l1\":0}, \n",
    "         \"adv_train_RN50\": {\"add_l1\": 0}}\n",
    "for method in [\"CURE\", \"adv_train_RN50\"]:\n",
    "    for att in [\"add_l1\"]:\n",
    "        lpips_to_original_image_l1[method][att] = lpips_dist.forward(img, p_img_l1[method][att]).item()"
   ]
  },
  {
   "cell_type": "code",
   "execution_count": 44,
   "metadata": {},
   "outputs": [
    {
     "data": {
      "text/plain": [
       "{'CURE': {'add_l1': 0.1319427490234375},\n",
       " 'adv_train_RN50': {'add_l1': 0.1865251660346985}}"
      ]
     },
     "execution_count": 44,
     "metadata": {},
     "output_type": "execute_result"
    }
   ],
   "source": [
    "lpips_to_original_image_l1"
   ]
  },
  {
   "cell_type": "markdown",
   "metadata": {},
   "source": [
    "#### visual quantitative results"
   ]
  },
  {
   "cell_type": "code",
   "execution_count": 45,
   "metadata": {},
   "outputs": [
    {
     "data": {
      "image/png": "[encoded data removed]",
      "text/plain": [
       "<Figure size 1008x288 with 2 Axes>"
      ]
     },
     "metadata": {
      "needs_background": "light"
     },
     "output_type": "display_data"
    }
   ],
   "source": [
    "fig, ax = plt.subplots(1,2, figsize=(14, 4))\n",
    "\n",
    "x_s = np.array([1,2])\n",
    "ax[0].bar(x_s - 0.1, \n",
    "           [mse_to_target_map[\"CURE\"][\"add\"], \n",
    "            mse_to_target_map[\"adv_train_RN50\"][\"add\"]], width=0.1, label=r\"Delta ($\\ell_{\\infty}$)\")\n",
    "\n",
    "ax[0].bar(x_s + 0.1, \n",
    "           [mse_to_target_map_l1[\"CURE\"][\"add_l1\"],\n",
    "            mse_to_target_map_l1[\"adv_train_RN50\"][\"add_l1\"]], width=0.1, label=\"Delta ($\\ell_1$)\")\n",
    "\n",
    "\n",
    "ax[0].set_xticks(x_s)\n",
    "ax[0].set_xticklabels([\"CURE\", \"adversarial training\"], fontsize=12)\n",
    "ax[0].legend(fontsize=12)\n",
    "ax[0].set_ylabel(r\"$||h(x_{adv}) - h^t||^2$\", fontsize=15)\n",
    "ax[0].ticklabel_format(style='sci', axis='y',scilimits=(0,0), useMathText=True)\n",
    "ax[0].yaxis.get_offset_text().set_fontsize(14)\n",
    "ax[0].set_ylim(top=2e-6)\n",
    "\n",
    "ax[1].bar(x_s - 0.1, \n",
    "           [lpips_to_original_image[\"CURE\"][\"add\"], \n",
    "            lpips_to_original_image[\"adv_train_RN50\"][\"add\"]], width=0.1, label=\"add\")\n",
    "\n",
    "ax[1].bar(x_s + 0.1, \n",
    "           [lpips_to_original_image_l1[\"CURE\"][\"add_l1\"],\n",
    "            lpips_to_original_image_l1[\"adv_train_RN50\"][\"add_l1\"]], width=0.1, label=\"add_l1\")\n",
    "\n",
    "ax[1].set_xticks(x_s)\n",
    "ax[1].set_xticklabels([\"CURE\", \"adversarial training\"], fontsize=12)\n",
    "# ax[1].legend(fontsize=12)\n",
    "# ax[1].set_ylim(bottom=0.25)\n",
    "ax[1].set_ylabel(r\"$LPIPS(x_{adv}, x)$\", fontsize=15)\n",
    "plt.savefig(\"compare_attacks_mse_cifar_l1.jpg\", dpi=300, bbox_inches='tight', pad_inches=0.05);"
   ]
  },
  {
   "cell_type": "code",
   "execution_count": 46,
   "metadata": {},
   "outputs": [
    {
     "data": {
      "image/png": "[encoded data removed]",
      "text/plain": [
       "<Figure size 720x288 with 10 Axes>"
      ]
     },
     "metadata": {},
     "output_type": "display_data"
    }
   ],
   "source": [
    "\n",
    "\n",
    "fig, ax = plt.subplots(2, 5, figsize=(10, 4))\n",
    "\n",
    "\n",
    "viz.visualize_image_attr(np.transpose(expl_cure.squeeze().numpy(), (1,2,0)),\n",
    "                             np.transpose(img.squeeze().cpu().detach().numpy(), (1,2,0)),\n",
    "                             method='heat_map',\n",
    "                             cmap=\"Reds\",\n",
    "                             show_colorbar=False,\n",
    "                             outlier_perc=2,\n",
    "                             fig_size=(3,3), plt_fig_axis=(fig, ax[0, 0]), use_pyplot=False)\n",
    "\n",
    "viz.visualize_image_attr(np.transpose(expl_adv_train.squeeze().numpy(), (1,2,0)),\n",
    "                             np.transpose(img.squeeze().cpu().detach().numpy(), (1,2,0)),\n",
    "                             method='heat_map',\n",
    "                             cmap=\"Reds\",\n",
    "                             show_colorbar=False,\n",
    "                             outlier_perc=2,\n",
    "                             fig_size=(3,3), plt_fig_axis=(fig, ax[1, 0]), use_pyplot=False)\n",
    "\n",
    "\n",
    "for i, method in enumerate([\"CURE\", \"adv_train_RN50\"]):\n",
    "    for j, att in enumerate([\"add\", \"add_l1\"]):\n",
    "        if j==0:\n",
    "            perturbed_img = p_img[method][att]\n",
    "            ax[i, 2*j+1].imshow(torch_to_image(normalizer.forward(perturbed_img), data_mean, data_std))\n",
    "            viz.visualize_image_attr(np.transpose(p_expl[method][att].squeeze().numpy(), (1,2,0)),\n",
    "                                 np.transpose(perturbed_img.squeeze().cpu().detach().numpy(), (1,2,0)),\n",
    "                                 method='heat_map',\n",
    "                                 cmap=\"Reds\",\n",
    "                                 show_colorbar=False,\n",
    "                                 outlier_perc=2,\n",
    "                                 fig_size=(3,3), plt_fig_axis=(fig, ax[i, 2*j+2]), use_pyplot=False)\n",
    "        else:\n",
    "            perturbed_img = p_img_l1[method][att]\n",
    "            ax[i, 2*j+1].imshow(torch_to_image(normalizer.forward(perturbed_img), data_mean, data_std))\n",
    "            viz.visualize_image_attr(np.transpose(p_expl_l1[method][att].squeeze().numpy(), (1,2,0)),\n",
    "                                 np.transpose(perturbed_img.squeeze().cpu().detach().numpy(), (1,2,0)),\n",
    "                                 method='heat_map',\n",
    "                                 cmap=\"Reds\",\n",
    "                                 show_colorbar=False,\n",
    "                                 outlier_perc=2,\n",
    "                                 fig_size=(3,3), plt_fig_axis=(fig, ax[i, 2*j+2]), use_pyplot=False)\n",
    "#################\n",
    "for i in range(2):\n",
    "    for j in range(5):\n",
    "        ax[i,j].axis('off')\n",
    "        ax[i,j].set_xticks([])\n",
    "        ax[i,j].set_yticks([])\n",
    "# ax[0, 0].set_title(\"saliency\", fontsize=12)\n",
    "# ax[0, 1].set_title(\"smooth grad\", fontsize=12)\n",
    "# ax[0, 2].set_title(\"uniform grad\", fontsize=12)\n",
    "# fig.text(0.12, 0.75, 'standard training', style = 'oblique', fontsize = 12, horizontalalignment ='right')\n",
    "fig.text(0.12, 0.67, 'curvature reg (CURE)', style = 'oblique', fontsize = 12, horizontalalignment ='right')\n",
    "fig.text(0.12, 0.33, 'adversarial training', style = 'oblique', fontsize = 12, horizontalalignment ='right')\n",
    "\n",
    "# fig.text(0.12, 0.2, 'add+stadv+recolor', style = 'oblique', fontsize = 10, horizontalalignment ='right')\n",
    "# fig.text(0.12, 0.2, 'Softplus (saliency)', style = 'oblique', fontsize = 20, horizontalalignment ='right')\n",
    "plt.subplots_adjust(wspace=0.008, hspace=0.07)\n",
    "plt.savefig(\"compare_attacks_viz_cifar_l1.jpg\", dpi=300, bbox_inches='tight', pad_inches=0.05);"
   ]
  },
  {
   "cell_type": "markdown",
   "metadata": {},
   "source": [
    "### CIEDE"
   ]
  },
  {
   "cell_type": "code",
   "execution_count": 15,
   "metadata": {},
   "outputs": [],
   "source": [
    "##\n",
    "p_img_ciede = {\"CURE\": {\"add\": 0, \"add_recolor\": 0}, \n",
    "         \"adv_train_RN50\": {\"add\": 0, \"add_reg\": 0}}\n",
    "###\n",
    "for i in [\"CURE\", \"adv_train_RN50\"]:\n",
    "    for j in [\"add\", \"add_reg\"]:\n",
    "        for file in os.listdir(\"../examples/output_expl_cifar/ciede/\"+i+\"/\"+j):\n",
    "            if file.startswith(\"x_\"):\n",
    "                p_img_ciede[i][j] = torch.load(\"../examples/output_expl_cifar/ciede/\"+i+\"/\"+j+\"/\"+file)"
   ]
  },
  {
   "cell_type": "code",
   "execution_count": 17,
   "metadata": {},
   "outputs": [
    {
     "name": "stderr",
     "output_type": "stream",
     "text": [
      "/home/ubuntu/captum/captum/_utils/gradient.py:55: UserWarning: Input Tensor 0 did not already require gradients, required_grads has been set automatically.\n",
      "  \"required_grads has been set automatically.\" % index\n"
     ]
    }
   ],
   "source": [
    "\n",
    "#perturbed explanations\n",
    "p_expl_ciede = {\"CURE\": {\"add\": 0, \"add_recolor\": 0}, \n",
    "         \"adv_train_RN50\": {\"add\": 0, \"add_reg\": 0}}\n",
    "for i, method in enumerate([\"CURE\", \"adv_train_RN50\"]):\n",
    "    for j, att in enumerate([\"add\", \"add_reg\"]):\n",
    "        perturbed_img = p_img_ciede[method][att]\n",
    "        if method == \"CURE\":\n",
    "            expl = get_expl(model_cure, normalizer.forward(perturbed_img), \"saliency\", desired_index=img_label)\n",
    "        elif method == \"adv_train_RN50\":\n",
    "            expl = get_expl(model_adv_train, normalizer.forward(perturbed_img), \"saliency\", desired_index=img_label)\n",
    "        else:\n",
    "            pass\n",
    "        p_expl_ciede[method][att] = expl.detach().cpu()\n",
    "        del expl\n",
    "        torch.cuda.empty_cache()"
   ]
  },
  {
   "cell_type": "markdown",
   "metadata": {},
   "source": [
    "#### MSE"
   ]
  },
  {
   "cell_type": "code",
   "execution_count": 22,
   "metadata": {},
   "outputs": [],
   "source": [
    "mse_to_target_map_ciede = {\"CURE\": {\"add\": 0, \"add_reg\": 0}, \n",
    "         \"adv_train_RN50\": {\"add\": 0, \"add_reg\": 0}}\n",
    "\n",
    "for method in [\"CURE\", \"adv_train_RN50\"]:\n",
    "    for att in [\"add\", \"add_reg\"]:\n",
    "        normalized_p_expl = torch.sum(p_expl_ciede[method][att].squeeze(), 0, True)\n",
    "        normalized_p_expl = normalized_p_expl / torch.sum(normalized_p_expl)\n",
    "        mse_to_target_map_ciede[method][att] = F.mse_loss(target_map[method], normalized_p_expl)"
   ]
  },
  {
   "cell_type": "code",
   "execution_count": 23,
   "metadata": {},
   "outputs": [
    {
     "data": {
      "text/plain": [
       "{'CURE': {'add': tensor(2.1723e-07), 'add_reg': tensor(2.3867e-07)},\n",
       " 'adv_train_RN50': {'add': tensor(8.7417e-07), 'add_reg': tensor(8.8578e-07)}}"
      ]
     },
     "execution_count": 23,
     "metadata": {},
     "output_type": "execute_result"
    }
   ],
   "source": [
    "mse_to_target_map_ciede"
   ]
  },
  {
   "cell_type": "markdown",
   "metadata": {},
   "source": [
    "#### LPIPS"
   ]
  },
  {
   "cell_type": "code",
   "execution_count": 27,
   "metadata": {},
   "outputs": [],
   "source": [
    "lpips_to_original_image_ciede = {\"CURE\": {\"add\": 0, \"add_reg\": 0}, \n",
    "         \"adv_train_RN50\": {\"add\": 0, \"add_reg\": 0}}\n",
    "for method in [\"CURE\", \"adv_train_RN50\"]:\n",
    "    for att in [\"add\", \"add_reg\"]:\n",
    "        lpips_to_original_image_ciede[method][att] = lpips_dist.forward(img, p_img_ciede[method][att]).item()"
   ]
  },
  {
   "cell_type": "markdown",
   "metadata": {},
   "source": [
    "#### viz"
   ]
  },
  {
   "cell_type": "code",
   "execution_count": 32,
   "metadata": {},
   "outputs": [
    {
     "data": {
      "image/png": "[encoded data removed]",
      "text/plain": [
       "<Figure size 1008x504 with 2 Axes>"
      ]
     },
     "metadata": {
      "needs_background": "light"
     },
     "output_type": "display_data"
    }
   ],
   "source": [
    "fig, ax = plt.subplots(1,2, figsize=(14, 7))\n",
    "\n",
    "x_s = np.array([1,2])\n",
    "ax[0].bar(x_s - 0.1, \n",
    "           [mse_to_target_map_ciede[\"CURE\"][\"add\"], mse_to_target_map_ciede[\"adv_train_RN50\"][\"add\"]], width=0.1, label=\"no reg\")\n",
    "\n",
    "ax[0].bar(x_s + 0.1, \n",
    "           [mse_to_target_map_ciede[\"CURE\"][\"add_reg\"], mse_to_target_map_ciede[\"adv_train_RN50\"][\"add_reg\"]], width=0.1, label=\"color reg\")\n",
    "\n",
    "\n",
    "ax[0].set_xticks(x_s)\n",
    "ax[0].set_xticklabels([\"CURE\", \"adversarial training\"], fontsize=12)\n",
    "ax[0].legend(fontsize=12)\n",
    "ax[0].set_ylabel(r\"$||h(x_{adv}) - h^t||^2$\", fontsize=15)\n",
    "ax[0].ticklabel_format(style='sci', axis='y',scilimits=(0,0), useMathText=True)\n",
    "ax[0].yaxis.get_offset_text().set_fontsize(14)\n",
    "ax[0].set_ylim(top=1e-6)\n",
    "\n",
    "ax[1].bar(x_s - 0.1, \n",
    "           [lpips_to_original_image_ciede[\"CURE\"][\"add\"], lpips_to_original_image_ciede[\"adv_train_RN50\"][\"add\"]], width=0.1, label=\"no reg\")\n",
    "\n",
    "ax[1].bar(x_s + 0.1, \n",
    "           [lpips_to_original_image_ciede[\"CURE\"][\"add_reg\"], lpips_to_original_image_ciede[\"adv_train_RN50\"][\"add_reg\"]], width=0.1, label=\"color reg\")\n",
    "\n",
    "ax[1].set_xticks(x_s)\n",
    "ax[1].set_xticklabels([\"CURE\", \"adversarial training\"], fontsize=12)\n",
    "ax[1].legend(fontsize=12)\n",
    "ax[1].set_ylabel(r\"$lpips(x_{adv}, x)$\", fontsize=15)\n",
    "plt.savefig(\"compare_attacks_mse_ciede_cifar.jpg\", dpi=300, bbox_inches='tight', pad_inches=0.05);"
   ]
  },
  {
   "cell_type": "code",
   "execution_count": 40,
   "metadata": {},
   "outputs": [
    {
     "data": {
      "image/png": "[encoded data removed]",
      "text/plain": [
       "<Figure size 720x288 with 10 Axes>"
      ]
     },
     "metadata": {},
     "output_type": "display_data"
    }
   ],
   "source": [
    "\n",
    "\n",
    "fig, ax = plt.subplots(2, 5, figsize=(10, 4))\n",
    "\n",
    "\n",
    "viz.visualize_image_attr(np.transpose(expl_cure.squeeze().numpy(), (1,2,0)),\n",
    "                             np.transpose(img.squeeze().cpu().detach().numpy(), (1,2,0)),\n",
    "                             method='heat_map',\n",
    "                             cmap=\"Reds\",\n",
    "                             show_colorbar=False,\n",
    "                             outlier_perc=2,\n",
    "                             fig_size=(3,3), plt_fig_axis=(fig, ax[0, 0]), use_pyplot=False)\n",
    "\n",
    "viz.visualize_image_attr(np.transpose(expl_adv_train.squeeze().numpy(), (1,2,0)),\n",
    "                             np.transpose(img.squeeze().cpu().detach().numpy(), (1,2,0)),\n",
    "                             method='heat_map',\n",
    "                             cmap=\"Reds\",\n",
    "                             show_colorbar=False,\n",
    "                             outlier_perc=2,\n",
    "                             fig_size=(3,3), plt_fig_axis=(fig, ax[1, 0]), use_pyplot=False)\n",
    "\n",
    "\n",
    "for i, method in enumerate([\"CURE\", \"adv_train_RN50\"]):\n",
    "    for j, att in enumerate([\"add\", \"add_reg\"]):\n",
    "        perturbed_img = p_img_ciede[method][att]\n",
    "        ax[i, 2*j+1].imshow(torch_to_image(normalizer.forward(perturbed_img), data_mean, data_std))\n",
    "        viz.visualize_image_attr(np.transpose(p_expl_ciede[method][att].squeeze().numpy(), (1,2,0)),\n",
    "                             np.transpose(perturbed_img.squeeze().cpu().detach().numpy(), (1,2,0)),\n",
    "                             method='heat_map',\n",
    "                             cmap=\"Reds\",\n",
    "                             show_colorbar=False,\n",
    "                             outlier_perc=2,\n",
    "                             fig_size=(3,3), plt_fig_axis=(fig, ax[i, 2*j+2]), use_pyplot=False)\n",
    "#################\n",
    "for i in range(2):\n",
    "    for j in range(5):\n",
    "        ax[i,j].axis('off')\n",
    "        ax[i,j].set_xticks([])\n",
    "        ax[i,j].set_yticks([])\n",
    "# ax[0, 0].set_title(\"saliency\", fontsize=12)\n",
    "# ax[0, 1].set_title(\"smooth grad\", fontsize=12)\n",
    "# ax[0, 2].set_title(\"uniform grad\", fontsize=12)\n",
    "# fig.text(0.12, 0.75, 'standard training', style = 'oblique', fontsize = 12, horizontalalignment ='right')\n",
    "fig.text(0.12, 0.69, 'curvature reg (CURE)', style = 'oblique', fontsize = 12, horizontalalignment ='right')\n",
    "fig.text(0.12, 0.33, 'adversarial training', style = 'oblique', fontsize = 12, horizontalalignment ='right')\n",
    "\n",
    "# fig.text(0.12, 0.2, 'add+stadv+recolor', style = 'oblique', fontsize = 10, horizontalalignment ='right')\n",
    "# fig.text(0.12, 0.2, 'Softplus (saliency)', style = 'oblique', fontsize = 20, horizontalalignment ='right')\n",
    "plt.subplots_adjust(wspace=0.008, hspace=0.07)\n",
    "plt.savefig(\"compare_attacks_viz_cifar_ciede.jpg\", dpi=300, bbox_inches='tight', pad_inches=0.05);"
   ]
  },
  {
   "cell_type": "code",
   "execution_count": 39,
   "metadata": {},
   "outputs": [
    {
     "data": {
      "image/png": "[encoded data removed]",
      "text/plain": [
       "<Figure size 144x432 with 3 Axes>"
      ]
     },
     "metadata": {
      "needs_background": "light"
     },
     "output_type": "display_data"
    }
   ],
   "source": [
    "fig, ax = plt.subplots(3, 1, figsize=(2, 6))\n",
    "\n",
    "ax[0].imshow(torch_to_image(normalizer.forward(target_img), data_mean, data_std))\n",
    "\n",
    "target_expl = get_expl(model_cure, normalizer.forward(target_img), \"saliency\").detach().cpu()\n",
    "torch.cuda.empty_cache()\n",
    "viz.visualize_image_attr(np.transpose(target_expl.squeeze().numpy(), (1,2,0)),\n",
    "                             np.transpose(target_img.squeeze().cpu().detach().numpy(), (1,2,0)),\n",
    "                             method='heat_map',\n",
    "                             cmap=\"Reds\",\n",
    "                             show_colorbar=False,\n",
    "                             outlier_perc=2,\n",
    "                             fig_size=(3,3), plt_fig_axis=(fig, ax[1]), use_pyplot=False)\n",
    "\n",
    "target_expl = get_expl(model_adv_train, normalizer.forward(target_img), \"saliency\").detach().cpu()\n",
    "torch.cuda.empty_cache()\n",
    "viz.visualize_image_attr(np.transpose(target_expl.squeeze().numpy(), (1,2,0)),\n",
    "                             np.transpose(target_img.squeeze().cpu().detach().numpy(), (1,2,0)),\n",
    "                             method='heat_map',\n",
    "                             cmap=\"Reds\",\n",
    "                             show_colorbar=False,\n",
    "                             outlier_perc=2,\n",
    "                             fig_size=(3,3), plt_fig_axis=(fig, ax[2]), use_pyplot=False)\n",
    "\n",
    "ax[0].axis('off')\n",
    "ax[1].axis('off')\n",
    "ax[2].axis('off')\n",
    "plt.subplots_adjust(wspace=0.008, hspace=0.07)\n",
    "plt.savefig(\"target_expl_map_ciede_cifar.jpg\", dpi=300, bbox_inches='tight', pad_inches=0.05);"
   ]
  },
  {
   "cell_type": "code",
   "execution_count": null,
   "metadata": {},
   "outputs": [],
   "source": []
  },
  {
   "cell_type": "code",
   "execution_count": 25,
   "metadata": {},
   "outputs": [
    {
     "data": {
      "text/plain": [
       "torch.Size([128, 3, 32, 32])"
      ]
     },
     "execution_count": 25,
     "metadata": {},
     "output_type": "execute_result"
    }
   ],
   "source": [
    "image.size()"
   ]
  },
  {
   "cell_type": "code",
   "execution_count": 9,
   "metadata": {},
   "outputs": [
    {
     "data": {
      "text/plain": [
       "array([657, 544, 462, ...,  19, 368, 248])"
      ]
     },
     "execution_count": 9,
     "metadata": {},
     "output_type": "execute_result"
    }
   ],
   "source": [
    "np.random.seed(75)\n",
    "a = np.array(range(1024))\n",
    "np.random.shuffle(a)\n",
    "a"
   ]
  },
  {
   "cell_type": "code",
   "execution_count": 10,
   "metadata": {},
   "outputs": [],
   "source": [
    "b = np.array(range(1024))\n",
    "np.random.shuffle(b)\n"
   ]
  },
  {
   "cell_type": "code",
   "execution_count": 13,
   "metadata": {},
   "outputs": [
    {
     "data": {
      "text/plain": [
       "'\"657 80\" \"544 197\" \"462 850\" \"177 453\" \"837 430\" \"843 496\" \"901 51\" \"644 706\" \"582 333\" \"911 380\" \"958 742\" \"667 56\" \"95 5\" \"202 605\" \"588 521\" \"796 1004\" \"338 930\" \"48 1005\" \"1008 665\" \"971 34\" \"267 72\" \"567 488\" \"888 855\" \"421 838\" \"273 642\"'"
      ]
     },
     "execution_count": 13,
     "metadata": {},
     "output_type": "execute_result"
    }
   ],
   "source": [
    "\" \".join('\\\"'+str(i)+\" \"+str(j)+'\\\"' for i,j in zip(a[:25], b[:25]))"
   ]
  },
  {
   "cell_type": "code",
   "execution_count": 46,
   "metadata": {},
   "outputs": [
    {
     "name": "stdout",
     "output_type": "stream",
     "text": [
      "59 40\n",
      "tensor(6) tensor(7)\n",
      "---\n",
      "6 2\n",
      "tensor(0) tensor(6)\n",
      "---\n",
      "98 118\n",
      "tensor(3) tensor(0)\n",
      "---\n",
      "68 120\n",
      "tensor(9) tensor(0)\n",
      "---\n",
      "45 36\n",
      "tensor(0) tensor(4)\n",
      "---\n",
      "116 54\n",
      "tensor(2) tensor(0)\n",
      "---\n",
      "118 95\n",
      "tensor(7) tensor(3)\n",
      "---\n",
      "87 74\n",
      "tensor(2) tensor(7)\n",
      "---\n",
      "35 103\n",
      "tensor(4) tensor(1)\n",
      "---\n",
      "117 57\n",
      "tensor(2) tensor(3)\n",
      "---\n",
      "75 37\n",
      "tensor(8) tensor(4)\n",
      "---\n",
      "2 46\n",
      "tensor(2) tensor(0)\n",
      "---\n",
      "67 71\n",
      "tensor(3) tensor(2)\n",
      "---\n",
      "77 42\n",
      "tensor(8) tensor(5)\n",
      "---\n",
      "80 17\n",
      "tensor(9) tensor(0)\n",
      "---\n",
      "28 0\n",
      "tensor(0) tensor(5)\n",
      "---\n",
      "27 85\n",
      "tensor(5) tensor(9)\n",
      "---\n",
      "39 102\n",
      "tensor(1) tensor(3)\n",
      "---\n",
      "9 75\n",
      "tensor(0) tensor(2)\n",
      "---\n",
      "125 63\n",
      "tensor(4) tensor(3)\n",
      "---\n",
      "24 10\n",
      "tensor(3) tensor(0)\n",
      "---\n",
      "22 21\n",
      "tensor(9) tensor(8)\n",
      "---\n",
      "99 38\n",
      "tensor(6) tensor(8)\n",
      "---\n",
      "78 111\n",
      "tensor(9) tensor(7)\n",
      "---\n",
      "89 122\n",
      "tensor(8) tensor(4)\n",
      "---\n"
     ]
    }
   ],
   "source": [
    "target_image, target_labels = next(dataiter)\n",
    "i=0\n",
    "for j in range(len(a)):\n",
    "    if label[a[j]] != target_labels[b[j]]:\n",
    "        print(a[i], b[j])\n",
    "        print(label[a[j]], target_labels[b[j]])\n",
    "        print(\"---\")\n",
    "        i += 1\n",
    "    if i==25:\n",
    "        break\n",
    "    "
   ]
  },
  {
   "cell_type": "code",
   "execution_count": 39,
   "metadata": {},
   "outputs": [
    {
     "data": {
      "text/plain": [
       "array([ 40,  28,   2, 118, 120,  36,  54,  95,  74, 103,  57,  37,  46,\n",
       "        71,  42,  17,   0,  85, 102,  75,  66,  63,  26,  10,  21,  38,\n",
       "       111, 122,  72,  79, 112,  87,  84, 116,  16,  86,  60,  44,  11,\n",
       "        68,  70,   8, 117,  82, 100, 106,  92, 110, 105,  76, 124,   4,\n",
       "         1, 121,  83, 126,   6,  13,  22,  65,  88,  47,  69, 119,  18,\n",
       "        27,  49,  29,  35,  77,  93,  52,  19,  80,  53,   9,  34,  25,\n",
       "       107,  31,  32,  39,  73,  48,  59,  15, 123,  56,  14,  62,  97,\n",
       "        81,   5,  99,  43,  94,  61,  50,  45,  91, 115,  98, 104,  51,\n",
       "        23,   3,  90,  55, 114,  89,  20, 125,  12, 113,   7,  67,  33,\n",
       "        78, 109,  30,  96,  41, 108,  64,  58, 101, 127,  24])"
      ]
     },
     "execution_count": 39,
     "metadata": {},
     "output_type": "execute_result"
    }
   ],
   "source": [
    "b"
   ]
  },
  {
   "cell_type": "code",
   "execution_count": null,
   "metadata": {},
   "outputs": [],
   "source": []
  }
 ],
 "metadata": {
  "kernelspec": {
   "display_name": "Python 3",
   "language": "python",
   "name": "python3"
  },
  "language_info": {
   "codemirror_mode": {
    "name": "ipython",
    "version": 3
   },
   "file_extension": ".py",
   "mimetype": "text/x-python",
   "name": "python",
   "nbconvert_exporter": "python",
   "pygments_lexer": "ipython3",
   "version": "3.7.6"
  }
 },
 "nbformat": 4,
 "nbformat_minor": 4
}
