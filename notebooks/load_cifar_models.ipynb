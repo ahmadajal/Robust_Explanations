{
 "cells": [
  {
   "cell_type": "code",
   "execution_count": 1,
   "metadata": {},
   "outputs": [],
   "source": [
    "import torch\n",
    "import torch.nn as nn\n",
    "import torch.nn.init as init\n",
    "import torch.nn.functional as F\n",
    "import torchvision\n",
    "import torchvision.transforms as transforms\n",
    "import os\n",
    "import numpy as np\n",
    "import sys\n",
    "import matplotlib.pyplot as plt\n",
    "import matplotlib\n",
    "import h5py\n",
    "import pandas as pd\n",
    "from PIL import Image\n",
    "from tqdm import tqdm_notebook as tqdm_loop\n",
    "%matplotlib inline\n",
    "%load_ext autoreload\n",
    "%autoreload 2"
   ]
  },
  {
   "cell_type": "code",
   "execution_count": 2,
   "metadata": {},
   "outputs": [],
   "source": [
    "import sys\n",
    "sys.path.append(\"../../pytorch-cifar/models/\")\n",
    "from resnet_softplus import ResNet18"
   ]
  },
  {
   "cell_type": "code",
   "execution_count": 3,
   "metadata": {},
   "outputs": [],
   "source": [
    "model = ResNet18()"
   ]
  },
  {
   "cell_type": "code",
   "execution_count": 4,
   "metadata": {},
   "outputs": [
    {
     "data": {
      "text/plain": [
       "11173962"
      ]
     },
     "execution_count": 4,
     "metadata": {},
     "output_type": "execute_result"
    }
   ],
   "source": [
    "sum(p.numel() for p in model.parameters() if p.requires_grad)"
   ]
  },
  {
   "cell_type": "code",
   "execution_count": 5,
   "metadata": {},
   "outputs": [
    {
     "data": {
      "text/plain": [
       "<All keys matched successfully>"
      ]
     },
     "execution_count": 5,
     "metadata": {},
     "output_type": "execute_result"
    }
   ],
   "source": [
    "model.load_state_dict(torch.load(\"models/RN18_standard.pth\")[\"net\"])"
   ]
  },
  {
   "cell_type": "code",
   "execution_count": 6,
   "metadata": {},
   "outputs": [],
   "source": [
    "device = torch.device(\"cuda\" if torch.cuda.is_available() else \"cpu\")\n",
    "model = model.eval().to(device)"
   ]
  },
  {
   "cell_type": "code",
   "execution_count": 7,
   "metadata": {},
   "outputs": [],
   "source": [
    "# Normalisation parameters fo CIFAR10\n",
    "# means = [0.4918687901200927, 0.49185976472299225, 0.4918583862227116]\n",
    "# stds  = [0.24697121702736, 0.24696766978537033, 0.2469719877121087]\n",
    "\n",
    "# normalize = transforms.Normalize(\n",
    "#     mean=means,\n",
    "#     std=stds,\n",
    "# )\n",
    "\n",
    "# train_transform = transforms.Compose([\n",
    "#     # 4 pixels are padded on each side, \n",
    "#     transforms.Pad(4),\n",
    "#     # a 32×32 crop is randomly sampled from the \n",
    "#     # padded image or its horizontal flip.\n",
    "#     transforms.RandomHorizontalFlip(0.5),\n",
    "#     transforms.RandomCrop(32),\n",
    "#     transforms.ToTensor(),\n",
    "#     normalize\n",
    "# ])\n",
    "\n",
    "transform_test = transforms.Compose([\n",
    "    transforms.ToTensor(),\n",
    "    transforms.Normalize((0.4914, 0.4822, 0.4465), (0.2023, 0.1994, 0.2010)),\n",
    "])"
   ]
  },
  {
   "cell_type": "code",
   "execution_count": 8,
   "metadata": {},
   "outputs": [
    {
     "name": "stdout",
     "output_type": "stream",
     "text": [
      "Files already downloaded and verified\n"
     ]
    }
   ],
   "source": [
    "cifar_test = torchvision.datasets.CIFAR10(root=\"./data\", train=False, download=True, \n",
    "                                          transform=transform_test)"
   ]
  },
  {
   "cell_type": "code",
   "execution_count": 9,
   "metadata": {},
   "outputs": [],
   "source": [
    "test_loader = torch.utils.data.DataLoader(\n",
    "        cifar_test,\n",
    "        batch_size=32,\n",
    "        shuffle=False\n",
    "    )"
   ]
  },
  {
   "cell_type": "code",
   "execution_count": 10,
   "metadata": {},
   "outputs": [
    {
     "name": "stderr",
     "output_type": "stream",
     "text": [
      "/home/ubuntu/anaconda3/envs/pytorch_latest_p37/lib/python3.7/site-packages/ipykernel_launcher.py:13: TqdmDeprecationWarning: This function will be removed in tqdm==5.0.0\n",
      "Please use `tqdm.notebook.tqdm` instead of `tqdm.tqdm_notebook`\n",
      "  del sys.path[0]\n"
     ]
    },
    {
     "data": {
      "application/vnd.jupyter.widget-view+json": {
       "model_id": "cb55b9b1e85e4dc0932c1d6f3fb4eb8a",
       "version_major": 2,
       "version_minor": 0
      },
      "text/plain": [
       "HBox(children=(FloatProgress(value=0.0, max=313.0), HTML(value='')))"
      ]
     },
     "metadata": {},
     "output_type": "display_data"
    },
    {
     "name": "stdout",
     "output_type": "stream",
     "text": [
      "\n"
     ]
    }
   ],
   "source": [
    "def accuracy(predicted_logits, reference):\n",
    "    \"\"\"Compute the ratio of correctly predicted labels\"\"\"\n",
    "    labels = torch.argmax(predicted_logits, 1)\n",
    "    correct_predictions = labels.eq(reference)\n",
    "    return correct_predictions.sum().float() / correct_predictions.nelement()\n",
    "\n",
    "criterion = torch.nn.CrossEntropyLoss()\n",
    "\n",
    "test_losses = []\n",
    "test_accs = []\n",
    "weights_for_avg = []\n",
    "with torch.no_grad():\n",
    "    for batch_x, batch_y in tqdm_loop(test_loader):\n",
    "        batch_x, batch_y = batch_x.to(device), batch_y.to(device)\n",
    "        prediction = model(batch_x)\n",
    "        loss = criterion(prediction, batch_y)\n",
    "        acc = accuracy(prediction, batch_y)\n",
    "        test_accs.append(acc)\n",
    "        test_losses.append(loss)\n",
    "        weights_for_avg.append(len(batch_x))\n",
    "        del batch_x\n",
    "        del batch_y\n",
    "        torch.cuda.empty_cache()"
   ]
  },
  {
   "cell_type": "code",
   "execution_count": 11,
   "metadata": {},
   "outputs": [
    {
     "data": {
      "text/plain": [
       "0.9227"
      ]
     },
     "execution_count": 11,
     "metadata": {},
     "output_type": "execute_result"
    }
   ],
   "source": [
    "np.average([i.cpu().item() for i in test_accs], weights=weights_for_avg)"
   ]
  },
  {
   "cell_type": "markdown",
   "metadata": {},
   "source": [
    "### explanation"
   ]
  },
  {
   "cell_type": "code",
   "execution_count": 12,
   "metadata": {},
   "outputs": [],
   "source": [
    "from captum.attr import visualization as viz\n",
    "sys.path.append(\"../attacks/\")\n",
    "from utils import get_expl, torch_to_image, load_image,  convert_relu_to_softplus, heatmap_to_image\n",
    "import mister_ed.loss_functions as lf\n",
    "import mister_ed.utils.pytorch_utils as mister_ed_utils\n",
    "from mister_ed.utils.pytorch_ssim import SSIM"
   ]
  },
  {
   "cell_type": "code",
   "execution_count": 13,
   "metadata": {},
   "outputs": [],
   "source": [
    "dataiter = iter(test_loader)\n",
    "image, label = next(dataiter)"
   ]
  },
  {
   "cell_type": "code",
   "execution_count": 14,
   "metadata": {},
   "outputs": [],
   "source": [
    "idx = 10"
   ]
  },
  {
   "cell_type": "code",
   "execution_count": 15,
   "metadata": {},
   "outputs": [],
   "source": [
    "img = image[idx].unsqueeze(dim=0).cuda()"
   ]
  },
  {
   "cell_type": "code",
   "execution_count": 16,
   "metadata": {},
   "outputs": [
    {
     "data": {
      "text/plain": [
       "tensor(0)"
      ]
     },
     "execution_count": 16,
     "metadata": {},
     "output_type": "execute_result"
    }
   ],
   "source": [
    "img_label = label[idx]\n",
    "img_label"
   ]
  },
  {
   "cell_type": "code",
   "execution_count": 17,
   "metadata": {},
   "outputs": [
    {
     "name": "stderr",
     "output_type": "stream",
     "text": [
      "/home/ubuntu/captum/captum/_utils/gradient.py:59: UserWarning: Input Tensor 0 did not already require gradients, required_grads has been set automatically.\n",
      "  \"required_grads has been set automatically.\" % index\n"
     ]
    },
    {
     "name": "stdout",
     "output_type": "stream",
     "text": [
      "total: 18.818117141723633, expl: 1.881811726889282e-06, delta: 0.5558162927627563\n",
      "total: 17.13963508605957, expl: 1.7139634564955486e-06, delta: 0.5625285506248474\n",
      "total: 15.884706497192383, expl: 1.5884706954238936e-06, delta: 0.5724449753761292\n",
      "total: 14.974225044250488, expl: 1.4974225450714584e-06, delta: 0.5849351286888123\n",
      "total: 14.184476852416992, expl: 1.4184477095113834e-06, delta: 0.5988566279411316\n",
      "total: 13.53125286102295, expl: 1.3531252989196219e-06, delta: 0.6137310266494751\n",
      "total: 13.019832611083984, expl: 1.3019832749705529e-06, delta: 0.6292703747749329\n",
      "total: 12.5902738571167, expl: 1.2590273854584666e-06, delta: 0.6451314687728882\n",
      "total: 12.193196296691895, expl: 1.2193196425869246e-06, delta: 0.6611953973770142\n",
      "total: 11.846587181091309, expl: 1.1846586858155206e-06, delta: 0.67731773853302\n",
      "total: 11.544012069702148, expl: 1.154401161329588e-06, delta: 0.6932313442230225\n",
      "total: 11.289539337158203, expl: 1.1289539543213323e-06, delta: 0.7087528705596924\n",
      "total: 11.044476509094238, expl: 1.1044476195820607e-06, delta: 0.7237209677696228\n",
      "total: 10.82508373260498, expl: 1.0825083336385433e-06, delta: 0.7381181716918945\n",
      "total: 10.635550498962402, expl: 1.063555032487784e-06, delta: 0.7519296407699585\n",
      "total: 10.455342292785645, expl: 1.0455341907800175e-06, delta: 0.7652086019515991\n",
      "total: 10.281900405883789, expl: 1.02819001313037e-06, delta: 0.7781188488006592\n",
      "total: 10.115094184875488, expl: 1.0115094255525037e-06, delta: 0.7907198667526245\n",
      "total: 9.939783096313477, expl: 9.939783467416419e-07, delta: 0.8030661940574646\n",
      "total: 9.755714416503906, expl: 9.755714245329727e-07, delta: 0.815199613571167\n"
     ]
    }
   ],
   "source": [
    "target_img = image[8].unsqueeze(0).cuda()\n",
    "target_label = label[8]\n",
    "\n",
    "org_expl = get_expl(model, img, \"saliency\", desired_index=img_label)\n",
    "target_expl = get_expl(model, target_img, \"saliency\", desired_index=target_label, normalize=True).detach()\n",
    "###############\n",
    "delta = torch.zeros_like(img, requires_grad=True) #additive noised\n",
    "nn.init.normal_(delta, mean=0.0, std=1e-2)\n",
    "x_adv = img + delta\n",
    "optimizer = torch.optim.Adam([delta], lr=0.001)\n",
    "\n",
    "with torch.enable_grad():\n",
    "    for i in range(20):\n",
    "        optimizer.zero_grad()\n",
    "        adv_expl = get_expl(model, x_adv, \"saliency\", desired_index=img_label, normalize=True)\n",
    "        expl_loss = F.mse_loss(adv_expl, target_expl)\n",
    "        delta_loss = torch.norm(delta)\n",
    "\n",
    "        loss = (10**7)*expl_loss + 0.0*delta_loss\n",
    "        print(\"total: {}, expl: {}, delta: {}\".format(loss, expl_loss, delta_loss))\n",
    "        loss.backward()\n",
    "        optimizer.step()\n",
    "        x_adv = img+delta"
   ]
  },
  {
   "cell_type": "code",
   "execution_count": 18,
   "metadata": {},
   "outputs": [
    {
     "data": {
      "text/plain": [
       "tensor([[[[-0.0410, -0.0307, -0.0254,  ...,  0.0020, -0.0012,  0.0127],\n",
       "          [ 0.0146,  0.0501,  0.0599,  ..., -0.0068,  0.0170, -0.0576],\n",
       "          [-0.0165, -0.0908,  0.0468,  ...,  0.0149,  0.0259,  0.0404],\n",
       "          ...,\n",
       "          [ 0.0109, -0.0057,  0.0468,  ...,  0.0213, -0.0124, -0.0120],\n",
       "          [ 0.0206, -0.0238,  0.0548,  ..., -0.0144,  0.0078, -0.0122],\n",
       "          [-0.0142,  0.0192, -0.0455,  ...,  0.0004,  0.0083,  0.0064]],\n",
       "\n",
       "         [[-0.0081, -0.0029,  0.0098,  ...,  0.0220,  0.0222,  0.0040],\n",
       "          [ 0.0442,  0.0616,  0.1009,  ..., -0.0002,  0.0248, -0.0553],\n",
       "          [-0.0150, -0.1021,  0.0329,  ..., -0.0109, -0.0236,  0.0422],\n",
       "          ...,\n",
       "          [ 0.0037, -0.0783,  0.0514,  ...,  0.0502,  0.0116, -0.0187],\n",
       "          [ 0.0189, -0.0374,  0.0455,  ..., -0.0199,  0.0173, -0.0114],\n",
       "          [-0.0105,  0.0343, -0.0420,  ..., -0.0155,  0.0036,  0.0044]],\n",
       "\n",
       "         [[-0.0083, -0.0141, -0.0164,  ...,  0.0129,  0.0093,  0.0137],\n",
       "          [ 0.0307,  0.0541,  0.0441,  ...,  0.0083,  0.0202, -0.0371],\n",
       "          [-0.0024, -0.0612,  0.0345,  ..., -0.0167, -0.0039,  0.0148],\n",
       "          ...,\n",
       "          [ 0.0076, -0.0403,  0.0083,  ...,  0.0390,  0.0011, -0.0103],\n",
       "          [ 0.0138, -0.0288,  0.0356,  ..., -0.0050,  0.0081, -0.0093],\n",
       "          [-0.0061,  0.0151, -0.0271,  ..., -0.0086,  0.0023,  0.0003]]]],\n",
       "       device='cuda:0')"
      ]
     },
     "execution_count": 18,
     "metadata": {},
     "output_type": "execute_result"
    }
   ],
   "source": [
    "delta.grad"
   ]
  },
  {
   "cell_type": "code",
   "execution_count": 19,
   "metadata": {},
   "outputs": [],
   "source": [
    "adv_expl = get_expl(model, x_adv, \"saliency\", desired_index=img_label)"
   ]
  },
  {
   "cell_type": "code",
   "execution_count": 20,
   "metadata": {},
   "outputs": [
    {
     "data": {
      "text/plain": [
       "(<Figure size 288x144 with 2 Axes>,\n",
       " <matplotlib.axes._subplots.AxesSubplot at 0x7fe9cf511450>)"
      ]
     },
     "execution_count": 20,
     "metadata": {},
     "output_type": "execute_result"
    },
    {
     "data": {
      "image/png": "[encoded data removed]",
      "text/plain": [
       "<Figure size 288x144 with 2 Axes>"
      ]
     },
     "metadata": {
      "needs_background": "light"
     },
     "output_type": "display_data"
    }
   ],
   "source": [
    "fig, ax = plt.subplots(1,2, figsize=(4,2))\n",
    "viz.visualize_image_attr(np.transpose(org_expl.squeeze().cpu().detach().numpy(), (1,2,0)),\n",
    "                             np.transpose(img.to(device).squeeze().cpu().detach().numpy(), (1,2,0)),\n",
    "                             method='heat_map',\n",
    "                             cmap=\"Reds\",\n",
    "                             show_colorbar=False,\n",
    "                             outlier_perc=2,\n",
    "                             fig_size=(3,3), plt_fig_axis=(fig, ax[0]), use_pyplot=False)\n",
    "viz.visualize_image_attr(np.transpose(adv_expl.squeeze().cpu().detach().numpy(), (1,2,0)),\n",
    "                             np.transpose(img.to(device).squeeze().cpu().detach().numpy(), (1,2,0)),\n",
    "                             method='heat_map',\n",
    "                             cmap=\"Reds\",\n",
    "                             show_colorbar=False,\n",
    "                             outlier_perc=2,\n",
    "                             fig_size=(3,3), plt_fig_axis=(fig, ax[1]), use_pyplot=False)"
   ]
  },
  {
   "cell_type": "markdown",
   "metadata": {},
   "source": [
    "### classes\n",
    "0: airplane\t\t\t\t\t\t\t\t\t\t\n",
    "1: automobile\t\t\t\t\t\t\t\t\t\t\n",
    "2: bird\t\t\t\t\t\t\t\t\t\t\n",
    "3: cat\t\t\t\t\t\t\t\t\t\t\n",
    "4: deer\t\t\t\t\t\t\t\t\t\t\n",
    "5: dog\t\t\t\t\t\t\t\t\t\t\n",
    "6: frog\t\t\t\t\t\t\t\t\t\t\n",
    "7: horse\t\t\t\t\t\t\t\t\t\t\n",
    "8: ship\t\t\t\t\t\t\t\t\t\t\n",
    "9: truck"
   ]
  },
  {
   "cell_type": "code",
   "execution_count": 28,
   "metadata": {},
   "outputs": [],
   "source": [
    "def cifar_tensor_to_image(tensor, data_mean=np.array([0.4914, 0.4822, 0.4465]), \n",
    "                               data_std=np.array([0.2023, 0.1994, 0.2010])):\n",
    "    if len(tensor.shape) == 4:\n",
    "        img = tensor.permute(0, 2, 3, 1)\n",
    "\n",
    "    img = img.contiguous().squeeze().detach().cpu().numpy()\n",
    "\n",
    "    img = img * data_std.reshape(1, 1, 3) + data_mean.reshape(1, 1, 3)\n",
    "    return np.clip(img, 0, 1)"
   ]
  },
  {
   "cell_type": "code",
   "execution_count": 29,
   "metadata": {},
   "outputs": [
    {
     "data": {
      "text/plain": [
       "0.3878741979598999"
      ]
     },
     "execution_count": 29,
     "metadata": {},
     "output_type": "execute_result"
    }
   ],
   "source": [
    "sigma = (torch.max(img) - torch.min(img)).item() * 0.1\n",
    "sigma"
   ]
  },
  {
   "cell_type": "code",
   "execution_count": 30,
   "metadata": {},
   "outputs": [
    {
     "name": "stderr",
     "output_type": "stream",
     "text": [
      "/home/ubuntu/captum/captum/_utils/gradient.py:59: UserWarning: Input Tensor 0 did not already require gradients, required_grads has been set automatically.\n",
      "  \"required_grads has been set automatically.\" % index\n"
     ]
    }
   ],
   "source": [
    "expl = get_expl(model, img.to(device), \"saliency\", desired_index=img_label.to(device),\n",
    "               sigma=sigma)"
   ]
  },
  {
   "cell_type": "code",
   "execution_count": 31,
   "metadata": {},
   "outputs": [
    {
     "data": {
      "text/plain": [
       "(-0.5, 31.5, 31.5, -0.5)"
      ]
     },
     "execution_count": 31,
     "metadata": {},
     "output_type": "execute_result"
    },
    {
     "data": {
      "image/png": "[encoded data removed]",
      "text/plain": [
       "<Figure size 288x144 with 2 Axes>"
      ]
     },
     "metadata": {
      "needs_background": "light"
     },
     "output_type": "display_data"
    }
   ],
   "source": [
    "fig, ax = plt.subplots(1,2, figsize=(4,2))\n",
    "ax[0].imshow(cifar_tensor_to_image(img))\n",
    "viz.visualize_image_attr(np.transpose(expl.squeeze().cpu().detach().numpy(), (1,2,0)),\n",
    "                             np.transpose(img.to(device).squeeze().cpu().detach().numpy(), (1,2,0)),\n",
    "                             method='heat_map',\n",
    "                             cmap=\"Reds\",\n",
    "                             show_colorbar=False,\n",
    "                             outlier_perc=2,\n",
    "                             fig_size=(3,3), plt_fig_axis=(fig, ax[1]), use_pyplot=False)\n",
    "ax[0].axis('off')\n",
    "ax[1].axis('off')"
   ]
  },
  {
   "cell_type": "code",
   "execution_count": 32,
   "metadata": {},
   "outputs": [
    {
     "data": {
      "text/plain": [
       "True"
      ]
     },
     "execution_count": 32,
     "metadata": {},
     "output_type": "execute_result"
    }
   ],
   "source": [
    "expl.requires_grad"
   ]
  },
  {
   "cell_type": "code",
   "execution_count": 24,
   "metadata": {},
   "outputs": [
    {
     "data": {
      "text/plain": [
       "<module 'torchvision.models' from '/home/ubuntu/anaconda3/envs/pytorch_latest_p37/lib/python3.7/site-packages/torchvision/models/__init__.py'>"
      ]
     },
     "execution_count": 24,
     "metadata": {},
     "output_type": "execute_result"
    }
   ],
   "source": [
    "torchvision.models.resnet18(pretrained=True)"
   ]
  },
  {
   "cell_type": "code",
   "execution_count": null,
   "metadata": {},
   "outputs": [],
   "source": []
  }
 ],
 "metadata": {
  "kernelspec": {
   "display_name": "Python 3",
   "language": "python",
   "name": "python3"
  },
  "language_info": {
   "codemirror_mode": {
    "name": "ipython",
    "version": 3
   },
   "file_extension": ".py",
   "mimetype": "text/x-python",
   "name": "python",
   "nbconvert_exporter": "python",
   "pygments_lexer": "ipython3",
   "version": "3.7.6"
  }
 },
 "nbformat": 4,
 "nbformat_minor": 4
}
